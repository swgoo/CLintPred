{
 "cells": [
  {
   "cell_type": "code",
   "execution_count": 5,
   "metadata": {},
   "outputs": [],
   "source": [
    "import os\n",
    "import pandas as pd\n",
    "\n",
    "dataset_file = \"./Fin_dataset.csv\"\n",
    "df_loaddata = pd.read_csv(dataset_file)"
   ]
  },
  {
   "cell_type": "code",
   "execution_count": 4,
   "metadata": {},
   "outputs": [],
   "source": [
    "## --  make train/Test data Using Invivo -- ##\n",
    "df_train = df_loaddata.dropna(subset=['Clint.invitro.'], axis=0)\n",
    "df_train = df_train.drop(df_train[df_train['Clint.invivo.'].notna()].index)\n",
    "\n",
    "df_test = df_loaddata[df_loaddata['Clint.invivo.'].notna()]\n",
    "\n",
    "df_train = df_train.drop(\"Clint.invivo.\", axis=1).reset_index(drop=True)\n",
    "df_test = df_test.drop(\"Clint.invitro.\", axis=1).reset_index(drop=True)\n",
    "\n",
    "df_train.rename(columns = {'SMILES_rdkit_final':'SMILES', \"Clint.invitro.\":\"Clint\"},inplace=True)\n",
    "df_test.rename(columns = {'SMILES_rdkit_final':'SMILES', \"Clint.invivo.\":\"Clint\"},inplace=True)\n",
    "\n",
    "save_path = \"./fin/newdata\"\n",
    "if not os.path.exists(save_path):\n",
    "            os.makedirs(save_path)\n",
    "\n",
    "df_train.to_csv(f\"{save_path}/train.csv\")\n",
    "df_test.to_csv(f\"{save_path}/test.csv\")"
   ]
  },
  {
   "cell_type": "code",
   "execution_count": 5,
   "metadata": {},
   "outputs": [],
   "source": [
    "## --  make train data not Using Invivo -- ##\n",
    "df_train = df_loaddata.dropna(subset=['Clint.invitro.'], axis=0)\n",
    "df_train = df_train.drop(\"Clint.invivo.\", axis=1).reset_index(drop=True)\n",
    "df_train.rename(columns = {'SMILES_rdkit_final':'SMILES', \"Clint.invitro.\":\"Clint\"},inplace=True)\n",
    "\n",
    "save_path = \"./fin/newdata_nonVivo\"\n",
    "if not os.path.exists(save_path):\n",
    "            os.makedirs(save_path)\n",
    "\n",
    "df_train.to_csv(f\"{save_path}/train.csv\")"
   ]
  }
 ],
 "metadata": {
  "kernelspec": {
   "display_name": "lightning",
   "language": "python",
   "name": "python3"
  },
  "language_info": {
   "codemirror_mode": {
    "name": "ipython",
    "version": 3
   },
   "file_extension": ".py",
   "mimetype": "text/x-python",
   "name": "python",
   "nbconvert_exporter": "python",
   "pygments_lexer": "ipython3",
   "version": "3.8.16"
  },
  "orig_nbformat": 4
 },
 "nbformat": 4,
 "nbformat_minor": 2
}
