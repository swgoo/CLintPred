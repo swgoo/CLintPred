{
 "cells": [
  {
   "cell_type": "code",
   "execution_count": 1,
   "metadata": {},
   "outputs": [],
   "source": [
    "import os\n",
    "import pandas as pd\n",
    "\n",
    "dataset_file = \"./dataset/data_unit.csv\"\n",
    "df_loaddata = pd.read_csv(dataset_file)"
   ]
  },
  {
   "cell_type": "code",
   "execution_count": 8,
   "metadata": {},
   "outputs": [
    {
     "name": "stdout",
     "output_type": "stream",
     "text": [
      "Index(['SMILES_rdkit_final', 'logP', 'Fup', 'Clint.invitro.[ml/min/10^6cell]',\n",
      "       'Clint.invitro.[ml/min/kg]', 'Clint.invivo.', 'MW_rdkit', 'HBD_rdkit',\n",
      "       'HBA_rdkit', 'NRB_rdkit', 'RF_rdkit', 'PSA_rdkit', 'logP_rdkit'],\n",
      "      dtype='object')\n"
     ]
    }
   ],
   "source": [
    "print(df_loaddata.columns)"
   ]
  },
  {
   "cell_type": "code",
   "execution_count": 6,
   "metadata": {},
   "outputs": [],
   "source": [
    "## --  make train/Test data Using Invivo -- ##\n",
    "df_train = df_loaddata.dropna(subset=['Clint.invitro.'], axis=0)\n",
    "df_train = df_train.drop(df_train[df_train['Clint.invivo.'].notna()].index)\n",
    "\n",
    "df_test = df_loaddata[df_loaddata['Clint.invivo.'].notna()]\n",
    "\n",
    "df_train = df_train.drop(\"Clint.invivo.\", axis=1).reset_index(drop=True)\n",
    "df_test = df_test.drop(\"Clint.invitro.\", axis=1).reset_index(drop=True)\n",
    "\n",
    "df_train.rename(columns = {'SMILES_rdkit_final':'SMILES', \"Clint.invitro.\":\"Clint\"},inplace=True)\n",
    "df_test.rename(columns = {'SMILES_rdkit_final':'SMILES', \"Clint.invivo.\":\"Clint\"},inplace=True)\n",
    "\n",
    "save_path = \"./dataset/fin/newdata\"\n",
    "if not os.path.exists(save_path):\n",
    "    os.makedirs(save_path)\n",
    "\n",
    "df_train.to_csv(f\"{save_path}/train.csv\", index=False)\n",
    "df_test.to_csv(f\"{save_path}/test.csv\", index=False)"
   ]
  },
  {
   "cell_type": "code",
   "execution_count": 10,
   "metadata": {},
   "outputs": [
    {
     "name": "stdout",
     "output_type": "stream",
     "text": [
      "2563 320\n",
      "2883\n",
      "2563\n",
      "save train data!\n"
     ]
    }
   ],
   "source": [
    "## --  make train/Test data Using Invivo -- ##\n",
    "df_train = df_loaddata.dropna(subset=['Clint.invitro.'], axis=0)\n",
    "df_train = df_train.drop(df_train[df_train['Clint.invivo.'].notna()].index)\n",
    "\n",
    "df_test = df_loaddata[df_loaddata['Clint.invivo.'].notna()]\n",
    "\n",
    "df_train = df_train.drop(\"Clint.invivo.\", axis=1).reset_index(drop=True)\n",
    "df_test = df_test.drop(\"Clint.invitro.\", axis=1).reset_index(drop=True)\n",
    "\n",
    "df_train.rename(columns = {'SMILES_rdkit_final':'SMILES', \"Clint.invitro.\":\"Clint\"},inplace=True)\n",
    "df_test.rename(columns = {'SMILES_rdkit_final':'SMILES', \"Clint.invivo.\":\"Clint\"},inplace=True)\n",
    "\n",
    "save_path = \"./dataset/fin/newdata_sort\"\n",
    "if not os.path.exists(save_path):\n",
    "    os.makedirs(save_path)\n",
    "\n",
    "# remove clearance value is 0\n",
    "print(sum(df_train['Clint'] != 0 ), sum(df_train['Clint'] == 0 ))\n",
    "print(len(df_train))\n",
    "\n",
    "df_sorted = df_train[df_train[\"Clint\"] != 0]\n",
    "print(len(df_sorted))\n",
    "\n",
    "if sum(df_train['Clint'] != 0 ) == len(df_sorted):\n",
    "    df_train.to_csv(f\"{save_path}/train.csv\", index=False)\n",
    "    print(\"save train data!\")\n",
    "\n",
    "df_test.to_csv(f\"{save_path}/test.csv\", index=False)"
   ]
  },
  {
   "cell_type": "code",
   "execution_count": 2,
   "metadata": {},
   "outputs": [
    {
     "name": "stdout",
     "output_type": "stream",
     "text": [
      "2718 0\n",
      "2718\n",
      "2718\n",
      "save train data!\n"
     ]
    }
   ],
   "source": [
    "## --  make train data not Using Invivo -- ##\n",
    "df_train = df_loaddata.dropna(subset=['Clint.invitro.[ml/min/kg]'], axis=0)\n",
    "df_train = df_train.drop([\"Clint.invivo.\", \"Clint.invitro.[ml/min/10^6cell]\"], axis=1).reset_index(drop=True)\n",
    "df_train.rename(columns = {'SMILES_rdkit_final':'SMILES', \"Clint.invitro.[ml/min/kg]\":\"Clint\"},inplace=True)\n",
    "\n",
    "save_path = \"./dataset/fin/newdata_nonvivo_sort\"\n",
    "if not os.path.exists(save_path):\n",
    "            os.makedirs(save_path)\n",
    "\n",
    "print(sum(df_train['Clint'] != 0 ), sum(df_train['Clint'] == 0 ))\n",
    "print(len(df_train))\n",
    "\n",
    "df_sorted = df_train[df_train[\"Clint\"] != 0]\n",
    "print(len(df_sorted))\n",
    "\n",
    "if sum(df_train['Clint'] != 0 ) == len(df_sorted):\n",
    "    df_train.to_csv(f\"{save_path}/train.csv\", index=False)\n",
    "    print(\"save train data!\")\n"
   ]
  },
  {
   "cell_type": "code",
   "execution_count": 1,
   "metadata": {},
   "outputs": [],
   "source": [
    "## -- Result data check - ##\n",
    "import pandas as pd\n",
    "\n",
    "result_mlp, result_encoder = './results/1_config_sweep/_lasttest/', './results/1_config_sweep_EncoderDecoder/'\n",
    "file_name = 'result_metrics.csv'\n",
    "df_mlpResult, df_encoderResult = pd.read_csv(result_mlp + file_name), pd.read_csv(result_encoder + file_name)\n",
    "\n",
    "## -- data preprecessing -- ##\n",
    "mlp_result = df_mlpResult.groupby('feature_type').agg({\n",
    "    'test_rm2': ['mean', 'std'],\n",
    "    'test_r2': ['mean', 'std'],\n",
    "    'test_CI': ['mean', 'std']\n",
    "}).reset_index()\n",
    "\n",
    "# 컬럼명 재정의\n",
    "mlp_result.columns = ['feature_type', 'aver_rm2', 'std_rm2', 'aver_r2', 'std_r2', 'aver_CI', 'std_CI']\n",
    "\n",
    "## -- data preprecessing -- ##\n",
    "df_encoderResult = df_encoderResult[df_encoderResult['model_type'] == 'encoder']\n",
    "Encoder_result = df_encoderResult.groupby('feature_type').agg({\n",
    "    'test_rm2': ['mean', 'std'],\n",
    "    'test_r2': ['mean', 'std'],\n",
    "    'test_CI': ['mean', 'std']\n",
    "}).reset_index()\n",
    "\n",
    "# 컬럼명 재정의\n",
    "Encoder_result.columns = ['feature_type', 'aver_rm2', 'std_rm2', 'aver_r2', 'std_r2', 'aver_CI', 'std_CI']\n"
   ]
  },
  {
   "cell_type": "code",
   "execution_count": 2,
   "metadata": {},
   "outputs": [
    {
     "data": {
      "text/html": [
       "<div>\n",
       "<style scoped>\n",
       "    .dataframe tbody tr th:only-of-type {\n",
       "        vertical-align: middle;\n",
       "    }\n",
       "\n",
       "    .dataframe tbody tr th {\n",
       "        vertical-align: top;\n",
       "    }\n",
       "\n",
       "    .dataframe thead th {\n",
       "        text-align: right;\n",
       "    }\n",
       "</style>\n",
       "<table border=\"1\" class=\"dataframe\">\n",
       "  <thead>\n",
       "    <tr style=\"text-align: right;\">\n",
       "      <th></th>\n",
       "      <th>feature_type</th>\n",
       "      <th>aver_rm2</th>\n",
       "      <th>std_rm2</th>\n",
       "      <th>aver_r2</th>\n",
       "      <th>std_r2</th>\n",
       "      <th>aver_CI</th>\n",
       "      <th>std_CI</th>\n",
       "    </tr>\n",
       "  </thead>\n",
       "  <tbody>\n",
       "    <tr>\n",
       "      <th>0</th>\n",
       "      <td>all</td>\n",
       "      <td>0.242468</td>\n",
       "      <td>0.065971</td>\n",
       "      <td>0.216396</td>\n",
       "      <td>0.076510</td>\n",
       "      <td>0.677258</td>\n",
       "      <td>0.033552</td>\n",
       "    </tr>\n",
       "    <tr>\n",
       "      <th>1</th>\n",
       "      <td>default</td>\n",
       "      <td>0.256362</td>\n",
       "      <td>0.064124</td>\n",
       "      <td>0.222730</td>\n",
       "      <td>0.079917</td>\n",
       "      <td>0.683908</td>\n",
       "      <td>0.038610</td>\n",
       "    </tr>\n",
       "    <tr>\n",
       "      <th>2</th>\n",
       "      <td>features</td>\n",
       "      <td>0.249346</td>\n",
       "      <td>0.056171</td>\n",
       "      <td>0.221260</td>\n",
       "      <td>0.065874</td>\n",
       "      <td>0.671438</td>\n",
       "      <td>0.039312</td>\n",
       "    </tr>\n",
       "    <tr>\n",
       "      <th>3</th>\n",
       "      <td>rdkit</td>\n",
       "      <td>0.246882</td>\n",
       "      <td>0.064550</td>\n",
       "      <td>0.216056</td>\n",
       "      <td>0.074690</td>\n",
       "      <td>0.680248</td>\n",
       "      <td>0.047889</td>\n",
       "    </tr>\n",
       "  </tbody>\n",
       "</table>\n",
       "</div>"
      ],
      "text/plain": [
       "  feature_type  aver_rm2   std_rm2   aver_r2    std_r2   aver_CI    std_CI\n",
       "0          all  0.242468  0.065971  0.216396  0.076510  0.677258  0.033552\n",
       "1      default  0.256362  0.064124  0.222730  0.079917  0.683908  0.038610\n",
       "2     features  0.249346  0.056171  0.221260  0.065874  0.671438  0.039312\n",
       "3        rdkit  0.246882  0.064550  0.216056  0.074690  0.680248  0.047889"
      ]
     },
     "execution_count": 2,
     "metadata": {},
     "output_type": "execute_result"
    }
   ],
   "source": [
    "mlp_result"
   ]
  },
  {
   "cell_type": "code",
   "execution_count": 3,
   "metadata": {},
   "outputs": [
    {
     "data": {
      "text/html": [
       "<div>\n",
       "<style scoped>\n",
       "    .dataframe tbody tr th:only-of-type {\n",
       "        vertical-align: middle;\n",
       "    }\n",
       "\n",
       "    .dataframe tbody tr th {\n",
       "        vertical-align: top;\n",
       "    }\n",
       "\n",
       "    .dataframe thead th {\n",
       "        text-align: right;\n",
       "    }\n",
       "</style>\n",
       "<table border=\"1\" class=\"dataframe\">\n",
       "  <thead>\n",
       "    <tr style=\"text-align: right;\">\n",
       "      <th></th>\n",
       "      <th>feature_type</th>\n",
       "      <th>aver_rm2</th>\n",
       "      <th>std_rm2</th>\n",
       "      <th>aver_r2</th>\n",
       "      <th>std_r2</th>\n",
       "      <th>aver_CI</th>\n",
       "      <th>std_CI</th>\n",
       "    </tr>\n",
       "  </thead>\n",
       "  <tbody>\n",
       "    <tr>\n",
       "      <th>0</th>\n",
       "      <td>all</td>\n",
       "      <td>0.228962</td>\n",
       "      <td>0.038496</td>\n",
       "      <td>0.151996</td>\n",
       "      <td>0.095979</td>\n",
       "      <td>0.677916</td>\n",
       "      <td>0.020903</td>\n",
       "    </tr>\n",
       "    <tr>\n",
       "      <th>1</th>\n",
       "      <td>default</td>\n",
       "      <td>0.249014</td>\n",
       "      <td>0.050636</td>\n",
       "      <td>0.173196</td>\n",
       "      <td>0.045811</td>\n",
       "      <td>0.690376</td>\n",
       "      <td>0.029110</td>\n",
       "    </tr>\n",
       "    <tr>\n",
       "      <th>2</th>\n",
       "      <td>features</td>\n",
       "      <td>0.234292</td>\n",
       "      <td>0.032268</td>\n",
       "      <td>0.167988</td>\n",
       "      <td>0.059985</td>\n",
       "      <td>0.686056</td>\n",
       "      <td>0.014207</td>\n",
       "    </tr>\n",
       "    <tr>\n",
       "      <th>3</th>\n",
       "      <td>rdkit</td>\n",
       "      <td>0.190418</td>\n",
       "      <td>0.071257</td>\n",
       "      <td>0.114678</td>\n",
       "      <td>0.086372</td>\n",
       "      <td>0.672078</td>\n",
       "      <td>0.054584</td>\n",
       "    </tr>\n",
       "  </tbody>\n",
       "</table>\n",
       "</div>"
      ],
      "text/plain": [
       "  feature_type  aver_rm2   std_rm2   aver_r2    std_r2   aver_CI    std_CI\n",
       "0          all  0.228962  0.038496  0.151996  0.095979  0.677916  0.020903\n",
       "1      default  0.249014  0.050636  0.173196  0.045811  0.690376  0.029110\n",
       "2     features  0.234292  0.032268  0.167988  0.059985  0.686056  0.014207\n",
       "3        rdkit  0.190418  0.071257  0.114678  0.086372  0.672078  0.054584"
      ]
     },
     "execution_count": 3,
     "metadata": {},
     "output_type": "execute_result"
    }
   ],
   "source": [
    "Encoder_result"
   ]
  }
 ],
 "metadata": {
  "kernelspec": {
   "display_name": "lightning",
   "language": "python",
   "name": "python3"
  },
  "language_info": {
   "codemirror_mode": {
    "name": "ipython",
    "version": 3
   },
   "file_extension": ".py",
   "mimetype": "text/x-python",
   "name": "python",
   "nbconvert_exporter": "python",
   "pygments_lexer": "ipython3",
   "version": "3.8.16"
  },
  "orig_nbformat": 4
 },
 "nbformat": 4,
 "nbformat_minor": 2
}
