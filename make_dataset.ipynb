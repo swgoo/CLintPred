{
 "cells": [
  {
   "cell_type": "code",
   "execution_count": 1,
   "metadata": {},
   "outputs": [],
   "source": [
    "import os\n",
    "import pandas as pd\n",
    "\n",
    "dataset_file = \"./dataset/data_unit.csv\"\n",
    "df_loaddata = pd.read_csv(dataset_file)"
   ]
  },
  {
   "cell_type": "code",
   "execution_count": 8,
   "metadata": {},
   "outputs": [
    {
     "name": "stdout",
     "output_type": "stream",
     "text": [
      "Index(['SMILES_rdkit_final', 'logP', 'Fup', 'Clint.invitro.[ml/min/10^6cell]',\n",
      "       'Clint.invitro.[ml/min/kg]', 'Clint.invivo.', 'MW_rdkit', 'HBD_rdkit',\n",
      "       'HBA_rdkit', 'NRB_rdkit', 'RF_rdkit', 'PSA_rdkit', 'logP_rdkit'],\n",
      "      dtype='object')\n"
     ]
    }
   ],
   "source": [
    "print(df_loaddata.columns)"
   ]
  },
  {
   "cell_type": "code",
   "execution_count": 6,
   "metadata": {},
   "outputs": [],
   "source": [
    "## --  make train/Test data Using Invivo -- ##\n",
    "df_train = df_loaddata.dropna(subset=['Clint.invitro.'], axis=0)\n",
    "df_train = df_train.drop(df_train[df_train['Clint.invivo.'].notna()].index)\n",
    "\n",
    "df_test = df_loaddata[df_loaddata['Clint.invivo.'].notna()]\n",
    "\n",
    "df_train = df_train.drop(\"Clint.invivo.\", axis=1).reset_index(drop=True)\n",
    "df_test = df_test.drop(\"Clint.invitro.\", axis=1).reset_index(drop=True)\n",
    "\n",
    "df_train.rename(columns = {'SMILES_rdkit_final':'SMILES', \"Clint.invitro.\":\"Clint\"},inplace=True)\n",
    "df_test.rename(columns = {'SMILES_rdkit_final':'SMILES', \"Clint.invivo.\":\"Clint\"},inplace=True)\n",
    "\n",
    "save_path = \"./dataset/fin/newdata\"\n",
    "if not os.path.exists(save_path):\n",
    "            os.makedirs(save_path)\n",
    "\n",
    "df_train.to_csv(f\"{save_path}/train.csv\", index=False)\n",
    "df_test.to_csv(f\"{save_path}/test.csv\", index=False)"
   ]
  },
  {
   "cell_type": "code",
   "execution_count": 10,
   "metadata": {},
   "outputs": [
    {
     "name": "stdout",
     "output_type": "stream",
     "text": [
      "2563 320\n",
      "2883\n",
      "2563\n",
      "save train data!\n"
     ]
    }
   ],
   "source": [
    "## --  make train/Test data Using Invivo -- ##\n",
    "df_train = df_loaddata.dropna(subset=['Clint.invitro.'], axis=0)\n",
    "df_train = df_train.drop(df_train[df_train['Clint.invivo.'].notna()].index)\n",
    "\n",
    "df_test = df_loaddata[df_loaddata['Clint.invivo.'].notna()]\n",
    "\n",
    "df_train = df_train.drop(\"Clint.invivo.\", axis=1).reset_index(drop=True)\n",
    "df_test = df_test.drop(\"Clint.invitro.\", axis=1).reset_index(drop=True)\n",
    "\n",
    "df_train.rename(columns = {'SMILES_rdkit_final':'SMILES', \"Clint.invitro.\":\"Clint\"},inplace=True)\n",
    "df_test.rename(columns = {'SMILES_rdkit_final':'SMILES', \"Clint.invivo.\":\"Clint\"},inplace=True)\n",
    "\n",
    "save_path = \"./dataset/fin/newdata_sort\"\n",
    "if not os.path.exists(save_path):\n",
    "            os.makedirs(save_path)\n",
    "\n",
    "print(sum(df_train['Clint'] != 0 ), sum(df_train['Clint'] == 0 ))\n",
    "print(len(df_train))\n",
    "\n",
    "df_sorted = df_train[df_train[\"Clint\"] != 0]\n",
    "print(len(df_sorted))\n",
    "\n",
    "if sum(df_train['Clint'] != 0 ) == len(df_sorted):\n",
    "    df_train.to_csv(f\"{save_path}/train.csv\", index=False)\n",
    "    print(\"save train data!\")\n",
    "\n",
    "df_test.to_csv(f\"{save_path}/test.csv\", index=False)"
   ]
  },
  {
   "cell_type": "code",
   "execution_count": 2,
   "metadata": {},
   "outputs": [
    {
     "name": "stdout",
     "output_type": "stream",
     "text": [
      "2718 0\n",
      "2718\n",
      "2718\n",
      "save train data!\n"
     ]
    }
   ],
   "source": [
    "## --  make train data not Using Invivo -- ##\n",
    "df_train = df_loaddata.dropna(subset=['Clint.invitro.[ml/min/kg]'], axis=0)\n",
    "df_train = df_train.drop([\"Clint.invivo.\", \"Clint.invitro.[ml/min/10^6cell]\"], axis=1).reset_index(drop=True)\n",
    "df_train.rename(columns = {'SMILES_rdkit_final':'SMILES', \"Clint.invitro.[ml/min/kg]\":\"Clint\"},inplace=True)\n",
    "\n",
    "save_path = \"./dataset/fin/newdata_nonvivo_sort\"\n",
    "if not os.path.exists(save_path):\n",
    "            os.makedirs(save_path)\n",
    "\n",
    "print(sum(df_train['Clint'] != 0 ), sum(df_train['Clint'] == 0 ))\n",
    "print(len(df_train))\n",
    "\n",
    "df_sorted = df_train[df_train[\"Clint\"] != 0]\n",
    "print(len(df_sorted))\n",
    "\n",
    "if sum(df_train['Clint'] != 0 ) == len(df_sorted):\n",
    "    df_train.to_csv(f\"{save_path}/train.csv\", index=False)\n",
    "    print(\"save train data!\")\n"
   ]
  }
 ],
 "metadata": {
  "kernelspec": {
   "display_name": "lightning",
   "language": "python",
   "name": "python3"
  },
  "language_info": {
   "codemirror_mode": {
    "name": "ipython",
    "version": 3
   },
   "file_extension": ".py",
   "mimetype": "text/x-python",
   "name": "python",
   "nbconvert_exporter": "python",
   "pygments_lexer": "ipython3",
   "version": "3.8.16"
  },
  "orig_nbformat": 4
 },
 "nbformat": 4,
 "nbformat_minor": 2
}
