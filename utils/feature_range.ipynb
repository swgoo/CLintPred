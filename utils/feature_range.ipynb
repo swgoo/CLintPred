{
 "cells": [
  {
   "cell_type": "code",
   "execution_count": 8,
   "metadata": {},
   "outputs": [],
   "source": [
    "import pandas as pd\n",
    "import numpy as np\n",
    "\n",
    "df_feature = pd.read_csv(\"../dataset/fin/newdata/test.csv\")\n",
    "\n",
    "rangeLabel_col = [\"MW_range\", \"PSA_range\", \"NRB_range\", \n",
    "                \"HBA_range\", \"HBD_range\", \"LogP_range\"]\n",
    "    \n",
    "MW_range = range(200, 601, 100)\n",
    "MW_label = [\"<200\", \"200-300\", \"300-400\", \"400-500\", \"500-600\",\">=600\"]\n",
    "\n"
   ]
  },
  {
   "cell_type": "code",
   "execution_count": 13,
   "metadata": {},
   "outputs": [
    {
     "data": {
      "text/plain": [
       "Index(['Unnamed: 0.1', 'Unnamed: 0', 'SMILES', 'logP', 'Fup', 'Clint',\n",
       "       'MW_rdkit', 'HBD_rdkit', 'HBA_rdkit', 'NRB_rdkit', 'RF_rdkit',\n",
       "       'PSA_rdkit', 'logP_rdkit', 'MW_range', 'PSA_range', 'NRB_range',\n",
       "       'HBA_range', 'HBD_range', 'LogP_range'],\n",
       "      dtype='object')"
      ]
     },
     "execution_count": 13,
     "metadata": {},
     "output_type": "execute_result"
    }
   ],
   "source": [
    "# df_feature.columns\n",
    "\n",
    "df_feature[rangeLabel_col] = np.NaN\n",
    "\n",
    "# df_feature[\"MW_range\"][df_feature[df_feature[\"MW_rdkit\"] < 200].index] = MW_label[0]\n",
    "# df_feature[\"MW_range\"][df_feature[df_feature[\"MW_rdkit\"] >= 200 & df_feature[\"MW_rdkit\"] < 300].index] = MW_label[1]\n",
    "(df_feature[\"MW_rdkit\"] >= 200) & (df_feature[\"MW_rdkit\"] < 300)\n",
    "# df_feature[\"MW_range\"]\n",
    "\n",
    "df_feature.columns"
   ]
  },
  {
   "cell_type": "code",
   "execution_count": 9,
   "metadata": {},
   "outputs": [
    {
     "name": "stderr",
     "output_type": "stream",
     "text": [
      "/tmp/ipykernel_556042/326102054.py:7: SettingWithCopyWarning: \n",
      "A value is trying to be set on a copy of a slice from a DataFrame\n",
      "\n",
      "See the caveats in the documentation: https://pandas.pydata.org/pandas-docs/stable/user_guide/indexing.html#returning-a-view-versus-a-copy\n",
      "  df_feature[\"MW_range\"][df_feature[df_feature[\"MW_rdkit\"] < MW_range[idx]].index] = MW_label[idx]\n"
     ]
    }
   ],
   "source": [
    "## -- make range dataset -- ##\n",
    "\n",
    "df_feature[rangeLabel_col] = np.NaN\n",
    "\n",
    "for idx, _ in enumerate(MW_range):\n",
    "    if idx == 0:\n",
    "        df_feature[\"MW_range\"][df_feature[df_feature[\"MW_rdkit\"] < MW_range[idx]].index] = MW_label[idx]\n",
    "    else:\n",
    "        df_feature[\"MW_range\"][df_feature[(df_feature[\"MW_rdkit\"] >= MW_range[idx-1]) & (df_feature[\"MW_rdkit\"] < MW_range[idx])].index] = MW_label[idx]\n",
    "\n",
    "        if idx == (len(MW_range)-1):\n",
    "            df_feature[\"MW_range\"][df_feature[df_feature[\"MW_rdkit\"] >= MW_range[idx]].index] = MW_label[idx+1]"
   ]
  },
  {
   "cell_type": "code",
   "execution_count": 12,
   "metadata": {},
   "outputs": [
    {
     "data": {
      "text/plain": [
       "0"
      ]
     },
     "execution_count": 12,
     "metadata": {},
     "output_type": "execute_result"
    }
   ],
   "source": [
    "sum(df_feature[\"MW_range\"] == np.NaN)"
   ]
  }
 ],
 "metadata": {
  "kernelspec": {
   "display_name": "lightning",
   "language": "python",
   "name": "python3"
  },
  "language_info": {
   "codemirror_mode": {
    "name": "ipython",
    "version": 3
   },
   "file_extension": ".py",
   "mimetype": "text/x-python",
   "name": "python",
   "nbconvert_exporter": "python",
   "pygments_lexer": "ipython3",
   "version": "3.8.16"
  },
  "orig_nbformat": 4
 },
 "nbformat": 4,
 "nbformat_minor": 2
}
