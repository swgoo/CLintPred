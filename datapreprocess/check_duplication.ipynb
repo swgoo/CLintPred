{
 "cells": [
  {
   "cell_type": "code",
   "execution_count": 2,
   "metadata": {},
   "outputs": [],
   "source": [
    "import os\n",
    "import pandas as pd\n",
    "\n",
    "loaddata_path = \"../dataset/0_NoneOpt/\"\n",
    "\n",
    "add_dataset = os.path.join(loaddata_path, \"train_data_additional.csv\")\n",
    "origin_dataset = os.path.join(loaddata_path, \"train_data_221027.csv\")\n",
    "\n",
    "df_adddata = pd.read_csv(add_dataset)\n",
    "df_origindata = pd.read_csv(origin_dataset)"
   ]
  },
  {
   "cell_type": "code",
   "execution_count": null,
   "metadata": {},
   "outputs": [],
   "source": [
    "df"
   ]
  }
 ],
 "metadata": {
  "kernelspec": {
   "display_name": "lightning",
   "language": "python",
   "name": "python3"
  },
  "language_info": {
   "codemirror_mode": {
    "name": "ipython",
    "version": 3
   },
   "file_extension": ".py",
   "mimetype": "text/x-python",
   "name": "python",
   "nbconvert_exporter": "python",
   "pygments_lexer": "ipython3",
   "version": "3.8.13"
  },
  "orig_nbformat": 4,
  "vscode": {
   "interpreter": {
    "hash": "a9bc895baaf0460f81d0f36b914b994d57225755c94ae2bfe2de0f52112dbc23"
   }
  }
 },
 "nbformat": 4,
 "nbformat_minor": 2
}
