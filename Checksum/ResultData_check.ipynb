{
 "cells": [
  {
   "cell_type": "code",
   "execution_count": 2,
   "metadata": {},
   "outputs": [],
   "source": [
    "import os\n",
    "import pandas as pd\n",
    "import numpy as np\n",
    "\n",
    "from sklearn.linear_model import LinearRegression\n",
    "\n",
    "import plotly.graph_objects as go\n",
    "from plotly.subplots import make_subplots\n",
    "\n",
    "result_path = \"../results/ClintPred_BAbackbone/valid_rate_0.2_lr_5e-05_r2_-0.289\"\n",
    "\n",
    "result_file = os.path.join(result_path, \"results.csv\")\n",
    "save_file = os.path.join(result_path, \"figure.png\")\n",
    "\n",
    "df_plot = pd.read_csv(result_file)\n",
    "labels, predict = df_plot['Clint'], df_plot['predict']\n",
    "x_ax = list(range(len(labels)))"
   ]
  },
  {
   "cell_type": "code",
   "execution_count": 3,
   "metadata": {},
   "outputs": [
    {
     "name": "stdout",
     "output_type": "stream",
     "text": [
      "[5.092501, 2.2420213, 2.9418461, 3.9941597, 5.6478763, 3.9501343, 0.785804, 0.44521284, 1.6867595, 6.073928, 5.541167, 2.9086375, 6.2079654, 4.955558, 4.4997034, 2.315094, 2.3312864, 3.4003527, 3.5887501, 2.0634189, 0.39586475, 2.7433999, 2.0409641, 3.9789994, 1.4028811, 2.405548, 4.8985996, 2.6430852, 4.987074, 0.96832234, 5.1006017, 2.8973103, 5.517507, 2.464681, 2.6796877, 3.792015, 2.4714417, 1.9610455, 4.5968432, 4.129876, 1.7446394, 0.32811743, 5.071741, 1.9217024, 4.3471756, 3.9352417, 5.0973406, 1.3659079, 4.227588, 0.9443098, 1.0589803, 4.0132093, 1.7987766, 3.015607, 1.6756654, 0.09025651, 3.7819135, 0.27743748, 2.34398, 4.920907, 5.397872, 2.3908107, 0.35644403, 1.2481568, 0.9569342, 0.9217418, 0.68433243, 0.577215, 3.6233175, 5.6841726, 2.0248778, 1.7987766, 0.5086121, 5.753014, 1.1944057, 3.861331, 3.1086757, 2.5495324, 0.24148677, 1.568483, 3.7781827, 1.2149749, 1.085266, 6.0146456, 0.82246614, 2.5443695, 1.5110377, 0.67023486, 0.73993886, 0.966801, 0.6516494, 1.2161728, 0.38093692, 1.1995275, 1.7010361, 1.7530435, 0.8400108, 0.5378427, 0.026634954, 2.2596526, 2.27873, 0.7179923, 1.1964375, 2.5788677, 0.40353507, 0.1302183, 0.7055477, 0.96431255, 3.4351902, 2.7758555, 0.8770544, 3.2156096, 6.2079654, 2.0652072, 0.61828256, 4.724325, 3.3198297, 1.7141732, 3.6897104, 2.570185, 1.3352337, 2.1732857, 1.8981994, 1.40176, 0.8823348, 0.5306927, 3.5344298, 1.6651763, 0.8064158, 0.82910377, 3.071466, 4.582763, 1.0861931, 1.6132956, 0.88990206, 2.6094632, 1.042822, 2.434331, 3.5258193, 1.0285027, 1.6104759, 2.7459307, 1.146758, 1.0326658, 5.9156437, 2.0643942, 0.5952601, 2.6163208, 1.3960248, 2.3390062, 4.3884344, 4.7130384, 3.9332788, 4.916053, 1.8275262, 4.462421, 4.650178, 1.4081397, 1.529594, 0.40856233, 3.373641, 3.3415513, 2.7495613, 5.6116095, 1.9011862, 3.325271, 4.146277, 2.5221007, 1.4165957, 1.437824, 1.8656284, 5.437869, 2.6529462, 3.5122209, 2.0844347, 0.45902362, 1.2767619, 0.10643417, 2.0360153, 3.245804, 2.9962802, 0.45505324, 0.6626794, 0.39851922, 0.27842665, 0.12259839, 3.805241, 0.53765535, 0.68304867, 1.3263024, 3.6459272, 0.97221595, 0.19346309, 0.39313227, 0.032644607, 0.55977046, 1.4419386, 0.15969162, 0.8589355, 0.22521554, 1.9076214, 0.65951174, 2.7705302, 0.063999586, 2.7710388, 0.2249323, 0.73320866, 1.3576335, 0.48641273, 4.589575, 1.3183583, 4.6596565, 4.788467, 3.2295973, 1.5841268, 1.4932142, 2.2359767, 3.1872544, 2.1010425, 2.6114295, 2.578703, 4.5016017, 1.5516438, 0.9003094, 2.5465896, 3.8117776, 3.803509, 0.8807955, 3.8027935, 3.319268, 3.6145937, 3.7633982, 0.9053358, 0.42453644, 4.907833, 1.796704, 1.1447035, 3.644668, 4.297476, 2.3234117, 1.3495588, 2.151504, 1.3495588, 1.2087622, 4.1310835, 3.2264783, 0.660338, 3.9789994, 5.652316, 2.133437, 2.3060923, 4.7343235, 0.27957326, 0.5091155, 1.0659063, 0.39132187, 5.4705086, 0.42306888, 2.839658, 5.280406, 2.0065033, 2.5465896, 1.1679044, 2.3234117, 1.6318833, 2.296087, 3.249473, 2.176836, 3.9941597, 2.368589, 4.482393, 2.0581896, 1.3342019, 0.4140441, 1.1379474, 1.5567731, 3.0447648, 2.1521208, 4.5743117, 1.2694014, 3.1425118, 5.5733604, 1.4635562, 5.3754344, 1.5223656, 2.464955, 1.3157711, 1.0521694, 3.0670455, 1.4017029, 5.186628, 1.0951461, 1.9314246, 3.273224, 1.588879, 3.2284286, 2.251763, 2.2519991, 2.8762095, 3.3457184, 4.486954, 3.8498344, 3.5390573, 3.1036851, 1.9816015, 1.6500942, 3.0134168, 0.7853588, 3.9333315, 1.2065678, 3.0550427, 0.00024920996, 0.29772645, 2.9308813, 3.6226056, 3.281809, 4.129876, 1.7163988, 0.8474966, 4.2415805, 2.1924386, 3.521975, 5.1976266, 3.5950444, 3.3976738, 2.108017, 2.5490015, 0.62999153, 3.632705, 3.762977, 5.0402064, 4.45022, 1.1647655, 5.096219, 1.9219115, 4.880039, 0.59564424, 4.850673, 3.3167708, 1.8580117, 2.6053777, 1.0537331, 0.52985954, 3.0584488, 3.9979172, 2.4833775, 4.1881146, 1.6196187, 2.8370109, 1.3002113, 3.47007, 2.9651597, 0.39905357, 0.85331243, 2.9596422, 5.1541915, 2.484549, 5.160126, 4.852684, 6.1848354, 2.3878005, 1.3490072, 3.6303086, 1.986375, 2.087591, 2.8211508, 4.4783483, 2.2243288, 4.09511, 2.7570539, 0.2774865, 3.7489738, 0.21960545, 1.9470273, 1.9914744, 0.787485, 2.8027723, 5.589674, 0.6727555, 3.245564, 4.880111, 0.6474931, 1.4581921, 5.374095, 5.3480577, 5.17196, 2.644829, 0.98600346, 2.1042407, 0.3674493, 1.506191, 2.6488557, 5.348627, 3.0934038, 3.994185, 0.50168985, 0.4807967, 4.6550245, 4.465811, 2.6069686, 0.15873027, 2.979262, 3.9392617, 1.203006, 1.17103, 1.1106223, 0.98705137, 0.013415861, 0.12653847, 0.006139134, 1.0988442, 0.92187375, 2.6145802, 0.8872009, 1.9076797, 0.84998524, 0.6422774, 0.73993886, 1.5634586, 0.5237219, 1.4644179, 0.7125428, 2.9333696, 1.4779264, 0.47733697, 0.10597965, 0.80508393, 1.5656203, 0.008517135, 0.7548643, 2.2299771, 0.05885601, 0.94533795, 0.13220924, 0.48656973, 3.6449995, 0.8074728, 3.6338682, 2.1885858, 1.04139, 2.9317305, 0.5817908, 2.2955265, 1.8350692, 3.1598356, 0.5917272, 1.5665169, 1.0991946, 2.5367343, 3.146405, 1.2341535, 5.1612525, 1.4913554, 2.3068476, 0.5868071, 1.0691289, 0.6885853, 1.8301462, 0.7290671, 1.1886264, 1.0354083, 0.75474644, 1.072197, 1.9588407, 1.4183024, 1.5567731, 2.9790354, 0.5765536, 3.382737, 5.1071277, 1.2988913, 4.404353, 1.1225953, 2.6162143, 4.1894083, 0.7697722, 5.6292844, 1.7992787, 0.74131304, 2.0309565, 2.0587049]\n"
     ]
    }
   ],
   "source": [
    "conv_data = list(labels)\n",
    "print(conv_data)"
   ]
  },
  {
   "cell_type": "code",
   "execution_count": 4,
   "metadata": {},
   "outputs": [],
   "source": [
    "def make_datapair(df_data, min = None, max = None):\n",
    "    if min is not None and max is not None:\n",
    "        part_label = [x for x in df_data['Clint'] if x >= min and x < max]\n",
    "        part_pred = [df_data['predict'][idx] for idx, x in enumerate(df_data['Clint'])  if x >= min and x < max]\n",
    "        group_label = f'part_label{max}'\n",
    "        group_pred = f'part_pred{max}'\n",
    "    elif min is None and max is not None:\n",
    "        part_label = [x for x in df_data['Clint'] if x < max]\n",
    "        part_pred = [df_data['predict'][idx] for idx, x in enumerate(df_data['Clint']) if x < max]\n",
    "        group_label = f'part_label{max}'\n",
    "        group_pred = f'part_pred{max}'\n",
    "    elif min is not None and max is None:\n",
    "        part_label = [x for x in df_data['Clint'] if x >= min]\n",
    "        part_pred = [df_data['predict'][idx] for idx, x in enumerate(df_data['Clint']) if x >= min]\n",
    "        group_label = f'part_label{min + 1}'\n",
    "        group_pred = f'part_pred{min + 1}'\n",
    "\n",
    "    group_label_list = [group_label for _ in part_label]\n",
    "    group_pred_list = [group_pred for _ in part_pred]\n",
    "\n",
    "\n",
    "    data_list = part_label + part_pred\n",
    "    group_list = group_label_list + group_pred_list\n",
    "\n",
    "    part_dataset = {'results':data_list, \"group\": group_list}\n",
    "    df_part = pd.DataFrame(part_dataset)\n",
    "\n",
    "    return df_part"
   ]
  },
  {
   "cell_type": "code",
   "execution_count": 5,
   "metadata": {},
   "outputs": [
    {
     "ename": "ValueError",
     "evalue": "The truth value of a Series is ambiguous. Use a.empty, a.bool(), a.item(), a.any() or a.all().",
     "output_type": "error",
     "traceback": [
      "\u001b[0;31m---------------------------------------------------------------------------\u001b[0m",
      "\u001b[0;31mValueError\u001b[0m                                Traceback (most recent call last)",
      "\u001b[1;32m/workspace/Clint_Prediction/Checksum/ResultData_check.ipynb Cell 4\u001b[0m in \u001b[0;36m<cell line: 1>\u001b[0;34m()\u001b[0m\n\u001b[0;32m----> <a href='vscode-notebook-cell://ssh-remote%2B7b22686f73744e616d65223a225356315f4d756c7469475055227d/workspace/Clint_Prediction/Checksum/ResultData_check.ipynb#W3sdnNjb2RlLXJlbW90ZQ%3D%3D?line=0'>1</a>\u001b[0m df_part1 \u001b[39m=\u001b[39m make_datapair(df_plot, \u001b[39mmax\u001b[39;49m \u001b[39m=\u001b[39;49m \u001b[39m1\u001b[39;49m)\n\u001b[1;32m      <a href='vscode-notebook-cell://ssh-remote%2B7b22686f73744e616d65223a225356315f4d756c7469475055227d/workspace/Clint_Prediction/Checksum/ResultData_check.ipynb#W3sdnNjb2RlLXJlbW90ZQ%3D%3D?line=1'>2</a>\u001b[0m df_part2 \u001b[39m=\u001b[39m make_datapair(df_plot, \u001b[39mmin\u001b[39m \u001b[39m=\u001b[39m \u001b[39m1\u001b[39m, \u001b[39mmax\u001b[39m \u001b[39m=\u001b[39m \u001b[39m2\u001b[39m)\n\u001b[1;32m      <a href='vscode-notebook-cell://ssh-remote%2B7b22686f73744e616d65223a225356315f4d756c7469475055227d/workspace/Clint_Prediction/Checksum/ResultData_check.ipynb#W3sdnNjb2RlLXJlbW90ZQ%3D%3D?line=2'>3</a>\u001b[0m df_part3 \u001b[39m=\u001b[39m make_datapair(df_plot, \u001b[39mmin\u001b[39m \u001b[39m=\u001b[39m \u001b[39m2\u001b[39m, \u001b[39mmax\u001b[39m \u001b[39m=\u001b[39m \u001b[39m3\u001b[39m)\n",
      "\u001b[1;32m/workspace/Clint_Prediction/Checksum/ResultData_check.ipynb Cell 4\u001b[0m in \u001b[0;36mmake_datapair\u001b[0;34m(df_data, min, max)\u001b[0m\n\u001b[1;32m      <a href='vscode-notebook-cell://ssh-remote%2B7b22686f73744e616d65223a225356315f4d756c7469475055227d/workspace/Clint_Prediction/Checksum/ResultData_check.ipynb#W3sdnNjb2RlLXJlbW90ZQ%3D%3D?line=5'>6</a>\u001b[0m     group_pred \u001b[39m=\u001b[39m \u001b[39mf\u001b[39m\u001b[39m'\u001b[39m\u001b[39mpart_pred\u001b[39m\u001b[39m{\u001b[39;00m\u001b[39mmax\u001b[39m\u001b[39m}\u001b[39;00m\u001b[39m'\u001b[39m\n\u001b[1;32m      <a href='vscode-notebook-cell://ssh-remote%2B7b22686f73744e616d65223a225356315f4d756c7469475055227d/workspace/Clint_Prediction/Checksum/ResultData_check.ipynb#W3sdnNjb2RlLXJlbW90ZQ%3D%3D?line=6'>7</a>\u001b[0m \u001b[39melif\u001b[39;00m \u001b[39mmin\u001b[39m \u001b[39mis\u001b[39;00m \u001b[39mNone\u001b[39;00m \u001b[39mand\u001b[39;00m \u001b[39mmax\u001b[39m \u001b[39mis\u001b[39;00m \u001b[39mnot\u001b[39;00m \u001b[39mNone\u001b[39;00m:\n\u001b[0;32m----> <a href='vscode-notebook-cell://ssh-remote%2B7b22686f73744e616d65223a225356315f4d756c7469475055227d/workspace/Clint_Prediction/Checksum/ResultData_check.ipynb#W3sdnNjb2RlLXJlbW90ZQ%3D%3D?line=7'>8</a>\u001b[0m     part_label \u001b[39m=\u001b[39m [df_data[\u001b[39m'\u001b[39m\u001b[39mClint\u001b[39m\u001b[39m'\u001b[39m] \u001b[39mfor\u001b[39;00m _ \u001b[39min\u001b[39;00m df_data[\u001b[39m'\u001b[39m\u001b[39mClint\u001b[39m\u001b[39m'\u001b[39m] \u001b[39mif\u001b[39;00m df_data[\u001b[39m'\u001b[39m\u001b[39mClint\u001b[39m\u001b[39m'\u001b[39m] \u001b[39m<\u001b[39m \u001b[39mmax\u001b[39m]\n\u001b[1;32m      <a href='vscode-notebook-cell://ssh-remote%2B7b22686f73744e616d65223a225356315f4d756c7469475055227d/workspace/Clint_Prediction/Checksum/ResultData_check.ipynb#W3sdnNjb2RlLXJlbW90ZQ%3D%3D?line=8'>9</a>\u001b[0m     part_pred \u001b[39m=\u001b[39m [df_data[\u001b[39m'\u001b[39m\u001b[39mpredict\u001b[39m\u001b[39m'\u001b[39m] \u001b[39mfor\u001b[39;00m _ \u001b[39min\u001b[39;00m df_data[\u001b[39m'\u001b[39m\u001b[39mClint\u001b[39m\u001b[39m'\u001b[39m] \u001b[39mif\u001b[39;00m df_data[\u001b[39m'\u001b[39m\u001b[39mClint\u001b[39m\u001b[39m'\u001b[39m] \u001b[39m<\u001b[39m \u001b[39mmax\u001b[39m]\n\u001b[1;32m     <a href='vscode-notebook-cell://ssh-remote%2B7b22686f73744e616d65223a225356315f4d756c7469475055227d/workspace/Clint_Prediction/Checksum/ResultData_check.ipynb#W3sdnNjb2RlLXJlbW90ZQ%3D%3D?line=9'>10</a>\u001b[0m     group_label \u001b[39m=\u001b[39m \u001b[39mf\u001b[39m\u001b[39m'\u001b[39m\u001b[39mpart_label\u001b[39m\u001b[39m{\u001b[39;00m\u001b[39mmax\u001b[39m\u001b[39m}\u001b[39;00m\u001b[39m'\u001b[39m\n",
      "\u001b[1;32m/workspace/Clint_Prediction/Checksum/ResultData_check.ipynb Cell 4\u001b[0m in \u001b[0;36m<listcomp>\u001b[0;34m(.0)\u001b[0m\n\u001b[1;32m      <a href='vscode-notebook-cell://ssh-remote%2B7b22686f73744e616d65223a225356315f4d756c7469475055227d/workspace/Clint_Prediction/Checksum/ResultData_check.ipynb#W3sdnNjb2RlLXJlbW90ZQ%3D%3D?line=5'>6</a>\u001b[0m     group_pred \u001b[39m=\u001b[39m \u001b[39mf\u001b[39m\u001b[39m'\u001b[39m\u001b[39mpart_pred\u001b[39m\u001b[39m{\u001b[39;00m\u001b[39mmax\u001b[39m\u001b[39m}\u001b[39;00m\u001b[39m'\u001b[39m\n\u001b[1;32m      <a href='vscode-notebook-cell://ssh-remote%2B7b22686f73744e616d65223a225356315f4d756c7469475055227d/workspace/Clint_Prediction/Checksum/ResultData_check.ipynb#W3sdnNjb2RlLXJlbW90ZQ%3D%3D?line=6'>7</a>\u001b[0m \u001b[39melif\u001b[39;00m \u001b[39mmin\u001b[39m \u001b[39mis\u001b[39;00m \u001b[39mNone\u001b[39;00m \u001b[39mand\u001b[39;00m \u001b[39mmax\u001b[39m \u001b[39mis\u001b[39;00m \u001b[39mnot\u001b[39;00m \u001b[39mNone\u001b[39;00m:\n\u001b[0;32m----> <a href='vscode-notebook-cell://ssh-remote%2B7b22686f73744e616d65223a225356315f4d756c7469475055227d/workspace/Clint_Prediction/Checksum/ResultData_check.ipynb#W3sdnNjb2RlLXJlbW90ZQ%3D%3D?line=7'>8</a>\u001b[0m     part_label \u001b[39m=\u001b[39m [df_data[\u001b[39m'\u001b[39m\u001b[39mClint\u001b[39m\u001b[39m'\u001b[39m] \u001b[39mfor\u001b[39;00m _ \u001b[39min\u001b[39;00m df_data[\u001b[39m'\u001b[39m\u001b[39mClint\u001b[39m\u001b[39m'\u001b[39m] \u001b[39mif\u001b[39;00m df_data[\u001b[39m'\u001b[39m\u001b[39mClint\u001b[39m\u001b[39m'\u001b[39m] \u001b[39m<\u001b[39m \u001b[39mmax\u001b[39m]\n\u001b[1;32m      <a href='vscode-notebook-cell://ssh-remote%2B7b22686f73744e616d65223a225356315f4d756c7469475055227d/workspace/Clint_Prediction/Checksum/ResultData_check.ipynb#W3sdnNjb2RlLXJlbW90ZQ%3D%3D?line=8'>9</a>\u001b[0m     part_pred \u001b[39m=\u001b[39m [df_data[\u001b[39m'\u001b[39m\u001b[39mpredict\u001b[39m\u001b[39m'\u001b[39m] \u001b[39mfor\u001b[39;00m _ \u001b[39min\u001b[39;00m df_data[\u001b[39m'\u001b[39m\u001b[39mClint\u001b[39m\u001b[39m'\u001b[39m] \u001b[39mif\u001b[39;00m df_data[\u001b[39m'\u001b[39m\u001b[39mClint\u001b[39m\u001b[39m'\u001b[39m] \u001b[39m<\u001b[39m \u001b[39mmax\u001b[39m]\n\u001b[1;32m     <a href='vscode-notebook-cell://ssh-remote%2B7b22686f73744e616d65223a225356315f4d756c7469475055227d/workspace/Clint_Prediction/Checksum/ResultData_check.ipynb#W3sdnNjb2RlLXJlbW90ZQ%3D%3D?line=9'>10</a>\u001b[0m     group_label \u001b[39m=\u001b[39m \u001b[39mf\u001b[39m\u001b[39m'\u001b[39m\u001b[39mpart_label\u001b[39m\u001b[39m{\u001b[39;00m\u001b[39mmax\u001b[39m\u001b[39m}\u001b[39;00m\u001b[39m'\u001b[39m\n",
      "File \u001b[0;32m~/miniconda3/envs/lightning/lib/python3.8/site-packages/pandas/core/generic.py:1527\u001b[0m, in \u001b[0;36mNDFrame.__nonzero__\u001b[0;34m(self)\u001b[0m\n\u001b[1;32m   1525\u001b[0m \u001b[39m@final\u001b[39m\n\u001b[1;32m   1526\u001b[0m \u001b[39mdef\u001b[39;00m \u001b[39m__nonzero__\u001b[39m(\u001b[39mself\u001b[39m):\n\u001b[0;32m-> 1527\u001b[0m     \u001b[39mraise\u001b[39;00m \u001b[39mValueError\u001b[39;00m(\n\u001b[1;32m   1528\u001b[0m         \u001b[39mf\u001b[39m\u001b[39m\"\u001b[39m\u001b[39mThe truth value of a \u001b[39m\u001b[39m{\u001b[39;00m\u001b[39mtype\u001b[39m(\u001b[39mself\u001b[39m)\u001b[39m.\u001b[39m\u001b[39m__name__\u001b[39m\u001b[39m}\u001b[39;00m\u001b[39m is ambiguous. \u001b[39m\u001b[39m\"\u001b[39m\n\u001b[1;32m   1529\u001b[0m         \u001b[39m\"\u001b[39m\u001b[39mUse a.empty, a.bool(), a.item(), a.any() or a.all().\u001b[39m\u001b[39m\"\u001b[39m\n\u001b[1;32m   1530\u001b[0m     )\n",
      "\u001b[0;31mValueError\u001b[0m: The truth value of a Series is ambiguous. Use a.empty, a.bool(), a.item(), a.any() or a.all()."
     ]
    }
   ],
   "source": [
    "df_part1 = make_datapair(df_plot, max = 1)\n",
    "df_part2 = make_datapair(df_plot, min = 1, max = 2)\n",
    "df_part3 = make_datapair(df_plot, min = 2, max = 3)\n",
    "df_part4 = make_datapair(df_plot, min = 3, max = 4)\n",
    "df_part5 = make_datapair(df_plot, min = 4, max = 5)\n",
    "df_part6 = make_datapair(df_plot, min = 5, max = 6)\n",
    "df_part7 = make_datapair(df_plot, min = 6)\n",
    "\n",
    " "
   ]
  },
  {
   "cell_type": "code",
   "execution_count": 54,
   "metadata": {},
   "outputs": [
    {
     "data": {
      "application/vnd.plotly.v1+json": {
       "config": {
        "plotlyServerURL": "https://plot.ly"
       },
       "data": [
        {
         "name": "part1",
         "type": "box",
         "x": [
          "part_label1",
          "part_label1",
          "part_label1",
          "part_label1",
          "part_label1",
          "part_label1",
          "part_label1",
          "part_label1",
          "part_label1",
          "part_label1",
          "part_label1",
          "part_label1",
          "part_label1",
          "part_label1",
          "part_label1",
          "part_label1",
          "part_label1",
          "part_label1",
          "part_label1",
          "part_label1",
          "part_label1",
          "part_label1",
          "part_label1",
          "part_label1",
          "part_label1",
          "part_label1",
          "part_label1",
          "part_label1",
          "part_label1",
          "part_label1",
          "part_label1",
          "part_label1",
          "part_label1",
          "part_label1",
          "part_label1",
          "part_label1",
          "part_label1",
          "part_label1",
          "part_label1",
          "part_label1",
          "part_label1",
          "part_label1",
          "part_label1",
          "part_label1",
          "part_label1",
          "part_label1",
          "part_label1",
          "part_label1",
          "part_label1",
          "part_label1",
          "part_label1",
          "part_label1",
          "part_label1",
          "part_label1",
          "part_label1",
          "part_label1",
          "part_label1",
          "part_label1",
          "part_label1",
          "part_label1",
          "part_label1",
          "part_label1",
          "part_label1",
          "part_label1",
          "part_label1",
          "part_label1",
          "part_label1",
          "part_label1",
          "part_label1",
          "part_label1",
          "part_label1",
          "part_label1",
          "part_label1",
          "part_label1",
          "part_label1",
          "part_label1",
          "part_label1",
          "part_label1",
          "part_label1",
          "part_label1",
          "part_label1",
          "part_label1",
          "part_label1",
          "part_label1",
          "part_label1",
          "part_label1",
          "part_label1",
          "part_label1",
          "part_label1",
          "part_label1",
          "part_label1",
          "part_label1",
          "part_label1",
          "part_label1",
          "part_label1",
          "part_label1",
          "part_label1",
          "part_label1",
          "part_label1",
          "part_label1",
          "part_label1",
          "part_label1",
          "part_label1",
          "part_label1",
          "part_label1",
          "part_label1",
          "part_label1",
          "part_label1",
          "part_label1",
          "part_label1",
          "part_label1",
          "part_label1",
          "part_label1",
          "part_label1",
          "part_label1",
          "part_label1",
          "part_label1",
          "part_label1",
          "part_label1",
          "part_pred1",
          "part_pred1",
          "part_pred1",
          "part_pred1",
          "part_pred1",
          "part_pred1",
          "part_pred1",
          "part_pred1",
          "part_pred1",
          "part_pred1",
          "part_pred1",
          "part_pred1",
          "part_pred1",
          "part_pred1",
          "part_pred1",
          "part_pred1",
          "part_pred1",
          "part_pred1",
          "part_pred1",
          "part_pred1",
          "part_pred1",
          "part_pred1",
          "part_pred1",
          "part_pred1",
          "part_pred1",
          "part_pred1",
          "part_pred1",
          "part_pred1",
          "part_pred1",
          "part_pred1",
          "part_pred1",
          "part_pred1",
          "part_pred1",
          "part_pred1",
          "part_pred1",
          "part_pred1",
          "part_pred1",
          "part_pred1",
          "part_pred1",
          "part_pred1",
          "part_pred1",
          "part_pred1",
          "part_pred1",
          "part_pred1",
          "part_pred1",
          "part_pred1",
          "part_pred1",
          "part_pred1",
          "part_pred1",
          "part_pred1",
          "part_pred1",
          "part_pred1",
          "part_pred1",
          "part_pred1",
          "part_pred1",
          "part_pred1",
          "part_pred1",
          "part_pred1",
          "part_pred1",
          "part_pred1",
          "part_pred1",
          "part_pred1",
          "part_pred1",
          "part_pred1",
          "part_pred1",
          "part_pred1",
          "part_pred1",
          "part_pred1",
          "part_pred1",
          "part_pred1",
          "part_pred1",
          "part_pred1",
          "part_pred1",
          "part_pred1",
          "part_pred1",
          "part_pred1",
          "part_pred1",
          "part_pred1",
          "part_pred1",
          "part_pred1",
          "part_pred1",
          "part_pred1",
          "part_pred1",
          "part_pred1",
          "part_pred1",
          "part_pred1",
          "part_pred1",
          "part_pred1",
          "part_pred1",
          "part_pred1",
          "part_pred1",
          "part_pred1",
          "part_pred1",
          "part_pred1",
          "part_pred1",
          "part_pred1",
          "part_pred1",
          "part_pred1",
          "part_pred1",
          "part_pred1",
          "part_pred1",
          "part_pred1",
          "part_pred1",
          "part_pred1",
          "part_pred1",
          "part_pred1",
          "part_pred1",
          "part_pred1",
          "part_pred1",
          "part_pred1",
          "part_pred1",
          "part_pred1",
          "part_pred1",
          "part_pred1",
          "part_pred1",
          "part_pred1",
          "part_pred1",
          "part_pred1",
          "part_pred1",
          "part_pred1",
          "part_pred1",
          "part_pred1",
          "part_pred1",
          "part_pred1",
          "part_pred1",
          "part_pred1",
          "part_pred1",
          "part_pred1",
          "part_pred1",
          "part_pred1",
          "part_pred1",
          "part_pred1",
          "part_pred1",
          "part_pred1",
          "part_pred1",
          "part_pred1",
          "part_pred1",
          "part_pred1",
          "part_pred1",
          "part_pred1",
          "part_pred1",
          "part_pred1",
          "part_pred1",
          "part_pred1",
          "part_pred1",
          "part_pred1",
          "part_pred1",
          "part_pred1",
          "part_pred1",
          "part_pred1",
          "part_pred1",
          "part_pred1",
          "part_pred1",
          "part_pred1",
          "part_pred1",
          "part_pred1",
          "part_pred1",
          "part_pred1",
          "part_pred1",
          "part_pred1"
         ],
         "y": [
          0.785804,
          0.44521284,
          0.39586475,
          0.96832234,
          0.32811743,
          0.9443098,
          0.09025651,
          0.27743748,
          0.35644403,
          0.9569342,
          0.9217418,
          0.68433243,
          0.577215,
          0.5086121,
          0.24148677,
          0.82246614,
          0.67023486,
          0.73993886,
          0.966801,
          0.6516494,
          0.38093692,
          0.8400108,
          0.5378427,
          0.026634954,
          0.7179923,
          0.40353507,
          0.1302183,
          0.7055477,
          0.96431255,
          0.8770544,
          0.61828256,
          0.8823348,
          0.5306927,
          0.8064158,
          0.82910377,
          0.88990206,
          0.5952601,
          0.40856233,
          0.45902362,
          0.10643417,
          0.45505324,
          0.6626794,
          0.39851922,
          0.27842665,
          0.12259839,
          0.53765535,
          0.68304867,
          0.97221595,
          0.19346309,
          0.39313227,
          0.032644607,
          0.55977046,
          0.15969162,
          0.8589355,
          0.22521554,
          0.65951174,
          0.063999586,
          0.2249323,
          0.73320866,
          0.48641273,
          0.9003094,
          0.8807955,
          0.9053358,
          0.42453644,
          0.660338,
          0.27957326,
          0.5091155,
          0.39132187,
          0.42306888,
          0.4140441,
          0.7853588,
          0.00024920996,
          0.29772645,
          0.8474966,
          0.62999153,
          0.59564424,
          0.52985954,
          0.39905357,
          0.85331243,
          0.2774865,
          0.21960545,
          0.787485,
          0.6727555,
          0.6474931,
          0.98600346,
          0.3674493,
          0.50168985,
          0.4807967,
          0.15873027,
          0.98705137,
          0.013415861,
          0.12653847,
          0.006139134,
          0.92187375,
          0.8872009,
          0.84998524,
          0.6422774,
          0.73993886,
          0.5237219,
          0.7125428,
          0.47733697,
          0.10597965,
          0.80508393,
          0.008517135,
          0.7548643,
          0.05885601,
          0.94533795,
          0.13220924,
          0.48656973,
          0.8074728,
          0.5817908,
          0.5917272,
          0.5868071,
          0.6885853,
          0.7290671,
          0.75474644,
          0.5765536,
          0.7697722,
          0.74131304,
          0.7558592,
          0.9292036,
          0.92962986,
          0.6587337,
          0.99960464,
          0.45258328,
          0.8756382,
          0.68360806,
          0.776206,
          0.2544352,
          0.9749937,
          0.7313498,
          0.7403828,
          0.7643757,
          0.6591349,
          0.46561638,
          0.9321328,
          0.95847315,
          0.96329105,
          0.5571495,
          0.93594927,
          0.8951643,
          0.98625326,
          0.97602105,
          0.93594927,
          0.8293777,
          0.46225336,
          0.28279147,
          -0.0151823275,
          0.9721824,
          0.6990399,
          0.54306144,
          0.8775216,
          0.44907016,
          0.3911486,
          0.918059,
          0.4491336,
          0.3295515,
          0.9993671,
          0.5690936,
          0.6406279,
          0.43397018,
          0.27922115,
          0.84299713,
          0.94855285,
          0.35650414,
          0.87947094,
          0.45258328,
          0.9895824,
          0.59982574,
          0.86839104,
          0.39154738,
          0.6973801,
          0.4087231,
          0.72406775,
          0.6053754,
          0.91757387,
          0.45956877,
          0.922115,
          0.58878267,
          0.11765594,
          0.29736158,
          0.7784127,
          0.9331398,
          0.34885994,
          0.40231103,
          0.7069409,
          0.11556742,
          0.9242864,
          0.9306178,
          0.16737929,
          0.37334323,
          0.9205051,
          0.42646918,
          0.5388903,
          0.6826739,
          0.99226904,
          0.7188228,
          0.96248555,
          0.83584654,
          0.74513227,
          0.9092021,
          0.939086,
          0.9351036,
          0.75191027,
          0.52889544,
          0.82189035,
          0.513016,
          0.64302075,
          0.243813,
          0.97834337,
          0.84569246,
          0.9578273,
          0.754292,
          0.54947776,
          0.9360523,
          0.8174808,
          0.42899236,
          0.6294304,
          0.061177436,
          0.84342563,
          0.42175665,
          0.8458597,
          0.90843505,
          0.6129272,
          0.75299346,
          0.2872706,
          0.99914545,
          0.43155947,
          0.93547344,
          0.6222862,
          0.65309054,
          0.41703036,
          0.36903837,
          0.88501185,
          0.6611214,
          0.69227743,
          0.52922654,
          0.3789979,
          0.9308376,
          0.64512,
          0.6872731,
          0.81326324,
          0.6126674,
          0.10268613,
          0.8709095,
          0.96752137,
          0.6937496,
          0.87142307,
          0.46968982,
          0.600562,
          0.53788835,
          0.91440123,
          0.6366728,
          0.97516966,
          0.5804417,
          0.48526126,
          0.5002789,
          0.8128751,
          0.5461392,
          0.51371723,
          0.2743658,
          0.6579934,
          0.8124819,
          0.20389478,
          0.60780835,
          0.98599184,
          0.9578273,
          0.5746974,
          0.7794448,
          0.5400534,
          0.8386436,
          0.618707,
          0.313091,
          0.25742275,
          0.3538918,
          0.9601016,
          0.9457826,
          0.15512395,
          0.45308223
         ]
        },
        {
         "name": "part2",
         "type": "box",
         "x": [
          "part_label2",
          "part_label2",
          "part_label2",
          "part_label2",
          "part_label2",
          "part_label2",
          "part_label2",
          "part_label2",
          "part_label2",
          "part_label2",
          "part_label2",
          "part_label2",
          "part_label2",
          "part_label2",
          "part_label2",
          "part_label2",
          "part_label2",
          "part_label2",
          "part_label2",
          "part_label2",
          "part_label2",
          "part_label2",
          "part_label2",
          "part_label2",
          "part_label2",
          "part_label2",
          "part_label2",
          "part_label2",
          "part_label2",
          "part_label2",
          "part_label2",
          "part_label2",
          "part_label2",
          "part_label2",
          "part_label2",
          "part_label2",
          "part_label2",
          "part_label2",
          "part_label2",
          "part_label2",
          "part_label2",
          "part_label2",
          "part_label2",
          "part_label2",
          "part_label2",
          "part_label2",
          "part_label2",
          "part_label2",
          "part_label2",
          "part_label2",
          "part_label2",
          "part_label2",
          "part_label2",
          "part_label2",
          "part_label2",
          "part_label2",
          "part_label2",
          "part_label2",
          "part_label2",
          "part_label2",
          "part_label2",
          "part_label2",
          "part_label2",
          "part_label2",
          "part_label2",
          "part_label2",
          "part_label2",
          "part_label2",
          "part_label2",
          "part_label2",
          "part_label2",
          "part_label2",
          "part_label2",
          "part_label2",
          "part_label2",
          "part_label2",
          "part_label2",
          "part_label2",
          "part_label2",
          "part_label2",
          "part_label2",
          "part_label2",
          "part_label2",
          "part_label2",
          "part_label2",
          "part_label2",
          "part_label2",
          "part_label2",
          "part_label2",
          "part_label2",
          "part_label2",
          "part_label2",
          "part_label2",
          "part_label2",
          "part_label2",
          "part_label2",
          "part_label2",
          "part_label2",
          "part_label2",
          "part_label2",
          "part_label2",
          "part_label2",
          "part_label2",
          "part_label2",
          "part_label2",
          "part_label2",
          "part_label2",
          "part_label2",
          "part_label2",
          "part_label2",
          "part_label2",
          "part_label2",
          "part_pred2",
          "part_pred2",
          "part_pred2",
          "part_pred2",
          "part_pred2",
          "part_pred2",
          "part_pred2",
          "part_pred2",
          "part_pred2",
          "part_pred2",
          "part_pred2",
          "part_pred2",
          "part_pred2",
          "part_pred2",
          "part_pred2",
          "part_pred2",
          "part_pred2",
          "part_pred2",
          "part_pred2",
          "part_pred2",
          "part_pred2",
          "part_pred2",
          "part_pred2",
          "part_pred2",
          "part_pred2",
          "part_pred2",
          "part_pred2",
          "part_pred2",
          "part_pred2",
          "part_pred2",
          "part_pred2",
          "part_pred2",
          "part_pred2",
          "part_pred2",
          "part_pred2",
          "part_pred2",
          "part_pred2",
          "part_pred2",
          "part_pred2",
          "part_pred2",
          "part_pred2",
          "part_pred2",
          "part_pred2",
          "part_pred2",
          "part_pred2",
          "part_pred2",
          "part_pred2",
          "part_pred2",
          "part_pred2",
          "part_pred2",
          "part_pred2",
          "part_pred2",
          "part_pred2",
          "part_pred2",
          "part_pred2",
          "part_pred2",
          "part_pred2",
          "part_pred2",
          "part_pred2",
          "part_pred2",
          "part_pred2",
          "part_pred2",
          "part_pred2",
          "part_pred2",
          "part_pred2",
          "part_pred2",
          "part_pred2",
          "part_pred2",
          "part_pred2",
          "part_pred2",
          "part_pred2",
          "part_pred2",
          "part_pred2",
          "part_pred2",
          "part_pred2",
          "part_pred2",
          "part_pred2",
          "part_pred2",
          "part_pred2",
          "part_pred2",
          "part_pred2",
          "part_pred2",
          "part_pred2",
          "part_pred2",
          "part_pred2",
          "part_pred2",
          "part_pred2",
          "part_pred2",
          "part_pred2",
          "part_pred2",
          "part_pred2",
          "part_pred2",
          "part_pred2",
          "part_pred2",
          "part_pred2",
          "part_pred2",
          "part_pred2",
          "part_pred2",
          "part_pred2",
          "part_pred2",
          "part_pred2",
          "part_pred2",
          "part_pred2",
          "part_pred2",
          "part_pred2",
          "part_pred2",
          "part_pred2",
          "part_pred2",
          "part_pred2",
          "part_pred2",
          "part_pred2",
          "part_pred2",
          "part_pred2",
          "part_pred2",
          "part_pred2",
          "part_pred2",
          "part_pred2",
          "part_pred2",
          "part_pred2",
          "part_pred2",
          "part_pred2",
          "part_pred2",
          "part_pred2",
          "part_pred2",
          "part_pred2",
          "part_pred2",
          "part_pred2",
          "part_pred2",
          "part_pred2",
          "part_pred2",
          "part_pred2",
          "part_pred2",
          "part_pred2",
          "part_pred2",
          "part_pred2",
          "part_pred2",
          "part_pred2",
          "part_pred2",
          "part_pred2",
          "part_pred2",
          "part_pred2",
          "part_pred2",
          "part_pred2",
          "part_pred2",
          "part_pred2",
          "part_pred2",
          "part_pred2",
          "part_pred2",
          "part_pred2",
          "part_pred2",
          "part_pred2",
          "part_pred2",
          "part_pred2",
          "part_pred2",
          "part_pred2",
          "part_pred2",
          "part_pred2",
          "part_pred2",
          "part_pred2",
          "part_pred2",
          "part_pred2",
          "part_pred2",
          "part_pred2",
          "part_pred2",
          "part_pred2",
          "part_pred2",
          "part_pred2",
          "part_pred2",
          "part_pred2",
          "part_pred2",
          "part_pred2",
          "part_pred2",
          "part_pred2",
          "part_pred2",
          "part_pred2",
          "part_pred2",
          "part_pred2",
          "part_pred2",
          "part_pred2",
          "part_pred2",
          "part_pred2",
          "part_pred2",
          "part_pred2",
          "part_pred2",
          "part_pred2",
          "part_pred2",
          "part_pred2",
          "part_pred2",
          "part_pred2",
          "part_pred2",
          "part_pred2",
          "part_pred2",
          "part_pred2",
          "part_pred2",
          "part_pred2",
          "part_pred2",
          "part_pred2",
          "part_pred2",
          "part_pred2",
          "part_pred2",
          "part_pred2",
          "part_pred2",
          "part_pred2",
          "part_pred2",
          "part_pred2",
          "part_pred2",
          "part_pred2",
          "part_pred2",
          "part_pred2",
          "part_pred2",
          "part_pred2",
          "part_pred2",
          "part_pred2",
          "part_pred2",
          "part_pred2",
          "part_pred2",
          "part_pred2",
          "part_pred2",
          "part_pred2",
          "part_pred2",
          "part_pred2",
          "part_pred2",
          "part_pred2",
          "part_pred2",
          "part_pred2",
          "part_pred2",
          "part_pred2",
          "part_pred2",
          "part_pred2",
          "part_pred2",
          "part_pred2",
          "part_pred2",
          "part_pred2",
          "part_pred2",
          "part_pred2",
          "part_pred2",
          "part_pred2",
          "part_pred2",
          "part_pred2",
          "part_pred2",
          "part_pred2",
          "part_pred2",
          "part_pred2",
          "part_pred2",
          "part_pred2",
          "part_pred2",
          "part_pred2"
         ],
         "y": [
          1.6867595,
          1.4028811,
          1.9610455,
          1.7446394,
          1.9217024,
          1.3659079,
          1.0589803,
          1.7987766,
          1.6756654,
          1.2481568,
          1.7987766,
          1.1944057,
          1.568483,
          1.2149749,
          1.085266,
          1.5110377,
          1.2161728,
          1.1995275,
          1.7010361,
          1.7530435,
          1.1964375,
          1.7141732,
          1.3352337,
          1.8981994,
          1.40176,
          1.6651763,
          1.0861931,
          1.6132956,
          1.042822,
          1.0285027,
          1.6104759,
          1.146758,
          1.0326658,
          1.3960248,
          1.8275262,
          1.4081397,
          1.529594,
          1.9011862,
          1.4165957,
          1.437824,
          1.8656284,
          1.2767619,
          1.3263024,
          1.4419386,
          1.9076214,
          1.3576335,
          1.3183583,
          1.5841268,
          1.4932142,
          1.5516438,
          1.796704,
          1.1447035,
          1.3495588,
          1.3495588,
          1.2087622,
          1.0659063,
          1.1679044,
          1.6318833,
          1.3342019,
          1.1379474,
          1.5567731,
          1.2694014,
          1.4635562,
          1.5223656,
          1.3157711,
          1.0521694,
          1.4017029,
          1.0951461,
          1.9314246,
          1.588879,
          1.9816015,
          1.6500942,
          1.2065678,
          1.7163988,
          1.1647655,
          1.9219115,
          1.8580117,
          1.0537331,
          1.6196187,
          1.3002113,
          1.3490072,
          1.986375,
          1.9470273,
          1.9914744,
          1.4581921,
          1.506191,
          1.203006,
          1.17103,
          1.1106223,
          1.0988442,
          1.9076797,
          1.5634586,
          1.4644179,
          1.4779264,
          1.5656203,
          1.04139,
          1.8350692,
          1.5665169,
          1.0991946,
          1.2341535,
          1.4913554,
          1.0691289,
          1.8301462,
          1.1886264,
          1.0354083,
          1.072197,
          1.9588407,
          1.4183024,
          1.5567731,
          1.2988913,
          1.1225953,
          1.7992787,
          1.2407086,
          1.6485665,
          1.0765159,
          1.6253273,
          1.5881344,
          1.8444161,
          1.6518813,
          1.2459357,
          1.4730278,
          1.4798535,
          1.6409771,
          1.4433315,
          1.5440965,
          1.109846,
          1.8233451,
          1.5795761,
          1.6240376,
          1.1157558,
          1.0386109,
          1.0837135,
          1.535166,
          1.0345966,
          1.5252146,
          1.2476994,
          1.2060268,
          1.9386404,
          1.7752699,
          1.1754899,
          1.1397623,
          1.8303037,
          1.1090077,
          1.164134,
          1.0689374,
          1.3778523,
          1.9382744,
          1.2047924,
          1.2720454,
          1.3174775,
          1.3556124,
          1.7693062,
          1.5212505,
          1.5389688,
          1.2258853,
          1.9529693,
          1.1706562,
          1.5247811,
          1.5059322,
          1.1513983,
          1.8674595,
          1.3019116,
          1.9344307,
          1.9386404,
          1.0297551,
          1.1626703,
          1.2284452,
          1.7811995,
          1.365561,
          1.3956015,
          1.3124857,
          1.6944135,
          1.7401447,
          1.1171241,
          1.0844539,
          1.313388,
          1.69475,
          1.0253545,
          1.6199111,
          1.69475,
          1.7086768,
          1.8718393,
          1.3130726,
          1.06766,
          1.2082106,
          1.0155323,
          1.90605,
          1.1018497,
          1.5584142,
          1.4206896,
          1.385851,
          1.8149223,
          1.5704868,
          1.2434415,
          1.6608967,
          1.3801936,
          1.3343006,
          1.3591558,
          1.9128782,
          1.3760619,
          1.3516233,
          1.1549062,
          1.5422237,
          1.313388,
          1.3021469,
          1.5417513,
          1.8329192,
          1.6302284,
          1.7271298,
          1.9254636,
          1.2091874,
          1.3735822,
          1.9101865,
          1.8022633,
          1.1884043,
          1.3349254,
          1.5807306,
          1.0574696,
          1.8502915,
          1.8997269,
          1.3996301,
          1.4963704,
          1.4476502,
          1.0135138,
          1.8241234,
          1.7683076,
          1.8648111,
          1.0155866,
          1.8642205,
          1.1430073,
          1.1128862,
          1.1846594,
          1.0358783,
          1.7391465,
          1.202108,
          1.8180057,
          1.9283772,
          1.7271298,
          1.077081,
          1.2258853,
          1.863442,
          1.6464033,
          1.3068974,
          1.8526999,
          1.066863,
          1.6429195,
          1.0686187,
          1.3640335,
          1.297482,
          1.6528478,
          1.2055583,
          1.9791974,
          1.3021195,
          1.4766797,
          1.0454988,
          1.270727,
          1.5928915,
          1.6336921,
          1.8718393,
          1.9406074,
          1.4512221,
          1.339033,
          1.4086136,
          1.4536749,
          1.4003489,
          1.6963397,
          1.6032038,
          1.837921,
          1.2684976,
          1.1031771,
          1.8744373,
          1.0205244,
          1.0276139,
          1.6823044,
          1.0511593,
          1.6238331,
          1.3405068,
          1.9487619,
          1.5326458,
          1.3710651,
          1.2089233,
          1.2434415,
          1.1301231,
          1.7695411,
          1.8674488,
          1.5281564,
          1.7922235,
          1.1276768,
          1.4148726,
          1.1534557,
          1.816476,
          1.2661788,
          1.4677317,
          1.9028146,
          1.8249577,
          1.1541582,
          1.7429464,
          1.4673576,
          1.7098079,
          1.2266629,
          1.9727921,
          1.1373401,
          1.1751014,
          1.5160539,
          1.6159489,
          1.3826764,
          1.2896796,
          1.0145937,
          1.0705352,
          1.7287899,
          1.3287494,
          1.5246028,
          1.0739949,
          1.6084641,
          1.5203251,
          1.0268478,
          1.4470403,
          1.2134916,
          1.3591558,
          1.1980404,
          1.7711729,
          1.9743625,
          1.8181412,
          1.3273993,
          1.8755457,
          1.1704897,
          1.4709861,
          1.3389698,
          1.1776608,
          1.4053997,
          1.5929908,
          1.7494525,
          1.0262522,
          1.0514663,
          1.0163127,
          1.0396129,
          1.3449494,
          1.5297312,
          1.1284823,
          1.483423,
          1.6305444,
          1.1293254,
          1.1782093,
          1.9154714,
          1.2677524,
          1.5487878,
          1.7609531,
          1.8215348,
          1.1938359,
          1.5424824,
          1.0593119,
          1.028538,
          1.2337939,
          1.0097193,
          1.12452,
          1.5048814,
          1.1951635,
          1.9386404,
          1.2284456
         ]
        },
        {
         "name": "part3",
         "type": "box",
         "x": [
          "part_label3",
          "part_label3",
          "part_label3",
          "part_label3",
          "part_label3",
          "part_label3",
          "part_label3",
          "part_label3",
          "part_label3",
          "part_label3",
          "part_label3",
          "part_label3",
          "part_label3",
          "part_label3",
          "part_label3",
          "part_label3",
          "part_label3",
          "part_label3",
          "part_label3",
          "part_label3",
          "part_label3",
          "part_label3",
          "part_label3",
          "part_label3",
          "part_label3",
          "part_label3",
          "part_label3",
          "part_label3",
          "part_label3",
          "part_label3",
          "part_label3",
          "part_label3",
          "part_label3",
          "part_label3",
          "part_label3",
          "part_label3",
          "part_label3",
          "part_label3",
          "part_label3",
          "part_label3",
          "part_label3",
          "part_label3",
          "part_label3",
          "part_label3",
          "part_label3",
          "part_label3",
          "part_label3",
          "part_label3",
          "part_label3",
          "part_label3",
          "part_label3",
          "part_label3",
          "part_label3",
          "part_label3",
          "part_label3",
          "part_label3",
          "part_label3",
          "part_label3",
          "part_label3",
          "part_label3",
          "part_label3",
          "part_label3",
          "part_label3",
          "part_label3",
          "part_label3",
          "part_label3",
          "part_label3",
          "part_label3",
          "part_label3",
          "part_label3",
          "part_label3",
          "part_label3",
          "part_label3",
          "part_label3",
          "part_label3",
          "part_label3",
          "part_label3",
          "part_label3",
          "part_label3",
          "part_label3",
          "part_label3",
          "part_label3",
          "part_label3",
          "part_label3",
          "part_label3",
          "part_label3",
          "part_label3",
          "part_label3",
          "part_label3",
          "part_label3",
          "part_label3",
          "part_label3",
          "part_label3",
          "part_label3",
          "part_label3",
          "part_pred3",
          "part_pred3",
          "part_pred3",
          "part_pred3",
          "part_pred3",
          "part_pred3",
          "part_pred3",
          "part_pred3",
          "part_pred3",
          "part_pred3",
          "part_pred3",
          "part_pred3",
          "part_pred3",
          "part_pred3",
          "part_pred3",
          "part_pred3",
          "part_pred3",
          "part_pred3",
          "part_pred3",
          "part_pred3",
          "part_pred3",
          "part_pred3",
          "part_pred3",
          "part_pred3",
          "part_pred3",
          "part_pred3",
          "part_pred3",
          "part_pred3",
          "part_pred3",
          "part_pred3",
          "part_pred3",
          "part_pred3",
          "part_pred3",
          "part_pred3",
          "part_pred3",
          "part_pred3",
          "part_pred3",
          "part_pred3",
          "part_pred3",
          "part_pred3",
          "part_pred3",
          "part_pred3",
          "part_pred3",
          "part_pred3",
          "part_pred3",
          "part_pred3",
          "part_pred3",
          "part_pred3",
          "part_pred3",
          "part_pred3",
          "part_pred3",
          "part_pred3",
          "part_pred3",
          "part_pred3",
          "part_pred3",
          "part_pred3",
          "part_pred3",
          "part_pred3",
          "part_pred3",
          "part_pred3",
          "part_pred3"
         ],
         "y": [
          2.2420213,
          2.9418461,
          2.9086375,
          2.315094,
          2.3312864,
          2.0634189,
          2.7433999,
          2.0409641,
          2.405548,
          2.6430852,
          2.8973103,
          2.464681,
          2.6796877,
          2.4714417,
          2.34398,
          2.3908107,
          2.0248778,
          2.5495324,
          2.5443695,
          2.2596526,
          2.27873,
          2.5788677,
          2.7758555,
          2.0652072,
          2.570185,
          2.1732857,
          2.6094632,
          2.434331,
          2.7459307,
          2.0643942,
          2.6163208,
          2.3390062,
          2.7495613,
          2.5221007,
          2.6529462,
          2.0844347,
          2.0360153,
          2.9962802,
          2.7705302,
          2.7710388,
          2.2359767,
          2.1010425,
          2.6114295,
          2.578703,
          2.5465896,
          2.3234117,
          2.151504,
          2.133437,
          2.3060923,
          2.839658,
          2.0065033,
          2.5465896,
          2.3234117,
          2.296087,
          2.176836,
          2.368589,
          2.0581896,
          2.1521208,
          2.464955,
          2.251763,
          2.2519991,
          2.8762095,
          2.9308813,
          2.1924386,
          2.108017,
          2.5490015,
          2.6053777,
          2.4833775,
          2.8370109,
          2.9651597,
          2.9596422,
          2.484549,
          2.3878005,
          2.087591,
          2.8211508,
          2.2243288,
          2.7570539,
          2.8027723,
          2.644829,
          2.1042407,
          2.6488557,
          2.6069686,
          2.979262,
          2.6145802,
          2.9333696,
          2.2299771,
          2.1885858,
          2.9317305,
          2.2955265,
          2.5367343,
          2.3068476,
          2.9790354,
          2.6162143,
          2.0309565,
          2.0587049,
          2.098573,
          2.2386909,
          2.214158,
          2.0920165,
          2.3409634,
          2.2102265,
          2.442958,
          2.093964,
          2.0449634,
          2.3585048,
          2.0311518,
          2.4223905,
          2.2138867,
          2.6787698,
          2.5312192,
          2.3312473,
          2.5380623,
          2.3391852,
          2.2321033,
          2.4210355,
          2.3605502,
          2.2215781,
          2.2493193,
          2.2483068,
          2.0567653,
          2.0126083,
          2.417116,
          2.433971,
          2.0857916,
          2.8332286,
          2.0230405,
          2.3934839,
          2.9937837,
          2.840531,
          2.0205936,
          2.527218,
          2.1530714,
          2.0757146,
          2.1443744,
          2.8955925,
          2.1964684,
          2.11805,
          2.4682405,
          2.0202506,
          2.518542,
          2.0112169,
          2.5192938,
          2.1452684,
          2.1242208,
          2.4925327,
          2.9565954,
          2.4504838,
          2.0324113,
          2.0906806,
          2.1989198,
          2.215559,
          2.5496347,
          2.5901458,
          2.0719805,
          2.3759027,
          2.1255028
         ]
        },
        {
         "name": "part4",
         "type": "box",
         "x": [
          "part_label4",
          "part_label4",
          "part_label4",
          "part_label4",
          "part_label4",
          "part_label4",
          "part_label4",
          "part_label4",
          "part_label4",
          "part_label4",
          "part_label4",
          "part_label4",
          "part_label4",
          "part_label4",
          "part_label4",
          "part_label4",
          "part_label4",
          "part_label4",
          "part_label4",
          "part_label4",
          "part_label4",
          "part_label4",
          "part_label4",
          "part_label4",
          "part_label4",
          "part_label4",
          "part_label4",
          "part_label4",
          "part_label4",
          "part_label4",
          "part_label4",
          "part_label4",
          "part_label4",
          "part_label4",
          "part_label4",
          "part_label4",
          "part_label4",
          "part_label4",
          "part_label4",
          "part_label4",
          "part_label4",
          "part_label4",
          "part_label4",
          "part_label4",
          "part_label4",
          "part_label4",
          "part_label4",
          "part_label4",
          "part_label4",
          "part_label4",
          "part_label4",
          "part_label4",
          "part_label4",
          "part_label4",
          "part_label4",
          "part_label4",
          "part_label4",
          "part_label4",
          "part_label4",
          "part_label4",
          "part_label4",
          "part_label4",
          "part_label4",
          "part_label4",
          "part_label4",
          "part_label4",
          "part_label4",
          "part_label4",
          "part_label4",
          "part_label4",
          "part_label4",
          "part_label4",
          "part_label4",
          "part_label4",
          "part_label4",
          "part_pred4",
          "part_pred4",
          "part_pred4",
          "part_pred4",
          "part_pred4",
          "part_pred4",
          "part_pred4",
          "part_pred4",
          "part_pred4",
          "part_pred4",
          "part_pred4",
          "part_pred4",
          "part_pred4"
         ],
         "y": [
          3.9941597,
          3.9501343,
          3.4003527,
          3.5887501,
          3.9789994,
          3.792015,
          3.9352417,
          3.015607,
          3.7819135,
          3.6233175,
          3.861331,
          3.1086757,
          3.7781827,
          3.4351902,
          3.2156096,
          3.3198297,
          3.6897104,
          3.5344298,
          3.071466,
          3.5258193,
          3.9332788,
          3.373641,
          3.3415513,
          3.325271,
          3.5122209,
          3.245804,
          3.805241,
          3.6459272,
          3.2295973,
          3.1872544,
          3.8117776,
          3.803509,
          3.8027935,
          3.319268,
          3.6145937,
          3.7633982,
          3.644668,
          3.2264783,
          3.9789994,
          3.249473,
          3.9941597,
          3.0447648,
          3.1425118,
          3.0670455,
          3.273224,
          3.2284286,
          3.3457184,
          3.8498344,
          3.5390573,
          3.1036851,
          3.0134168,
          3.9333315,
          3.0550427,
          3.6226056,
          3.281809,
          3.521975,
          3.5950444,
          3.3976738,
          3.632705,
          3.762977,
          3.3167708,
          3.0584488,
          3.9979172,
          3.47007,
          3.6303086,
          3.7489738,
          3.245564,
          3.0934038,
          3.994185,
          3.9392617,
          3.6449995,
          3.6338682,
          3.1598356,
          3.146405,
          3.382737,
          3.1654985,
          3.0846345,
          3.5130596,
          3.344537,
          3.5501966,
          3.513574,
          3.1715572,
          3.872059,
          3.5386198,
          3.3204746,
          3.2015817,
          3.0227256,
          3.6721551
         ]
        },
        {
         "name": "part5",
         "type": "box",
         "x": [
          "part_label5",
          "part_label5",
          "part_label5",
          "part_label5",
          "part_label5",
          "part_label5",
          "part_label5",
          "part_label5",
          "part_label5",
          "part_label5",
          "part_label5",
          "part_label5",
          "part_label5",
          "part_label5",
          "part_label5",
          "part_label5",
          "part_label5",
          "part_label5",
          "part_label5",
          "part_label5",
          "part_label5",
          "part_label5",
          "part_label5",
          "part_label5",
          "part_label5",
          "part_label5",
          "part_label5",
          "part_label5",
          "part_label5",
          "part_label5",
          "part_label5",
          "part_label5",
          "part_label5",
          "part_label5",
          "part_label5",
          "part_label5",
          "part_label5",
          "part_label5",
          "part_label5",
          "part_label5",
          "part_label5",
          "part_label5",
          "part_label5"
         ],
         "y": [
          4.955558,
          4.4997034,
          4.8985996,
          4.987074,
          4.5968432,
          4.129876,
          4.3471756,
          4.227588,
          4.0132093,
          4.920907,
          4.724325,
          4.582763,
          4.3884344,
          4.7130384,
          4.916053,
          4.462421,
          4.650178,
          4.146277,
          4.589575,
          4.6596565,
          4.788467,
          4.5016017,
          4.907833,
          4.297476,
          4.1310835,
          4.7343235,
          4.482393,
          4.5743117,
          4.486954,
          4.129876,
          4.2415805,
          4.45022,
          4.880039,
          4.850673,
          4.1881146,
          4.852684,
          4.4783483,
          4.09511,
          4.880111,
          4.6550245,
          4.465811,
          4.404353,
          4.1894083
         ]
        },
        {
         "name": "part6",
         "type": "box",
         "x": [
          "part_label6",
          "part_label6",
          "part_label6",
          "part_label6",
          "part_label6",
          "part_label6",
          "part_label6",
          "part_label6",
          "part_label6",
          "part_label6",
          "part_label6",
          "part_label6",
          "part_label6",
          "part_label6",
          "part_label6",
          "part_label6",
          "part_label6",
          "part_label6",
          "part_label6",
          "part_label6",
          "part_label6",
          "part_label6",
          "part_label6",
          "part_label6",
          "part_label6",
          "part_label6",
          "part_label6",
          "part_label6",
          "part_label6",
          "part_label6",
          "part_label6",
          "part_label6"
         ],
         "y": [
          5.092501,
          5.6478763,
          5.541167,
          5.1006017,
          5.517507,
          5.071741,
          5.0973406,
          5.397872,
          5.6841726,
          5.753014,
          5.9156437,
          5.6116095,
          5.437869,
          5.652316,
          5.4705086,
          5.280406,
          5.5733604,
          5.3754344,
          5.186628,
          5.1976266,
          5.0402064,
          5.096219,
          5.1541915,
          5.160126,
          5.589674,
          5.374095,
          5.3480577,
          5.17196,
          5.348627,
          5.1612525,
          5.1071277,
          5.6292844
         ]
        },
        {
         "name": "part7",
         "type": "box",
         "x": [
          "part_label7",
          "part_label7",
          "part_label7",
          "part_label7",
          "part_label7"
         ],
         "y": [
          6.073928,
          6.2079654,
          6.0146456,
          6.2079654,
          6.1848354
         ]
        }
       ],
       "layout": {
        "template": {
         "data": {
          "bar": [
           {
            "error_x": {
             "color": "#2a3f5f"
            },
            "error_y": {
             "color": "#2a3f5f"
            },
            "marker": {
             "line": {
              "color": "#E5ECF6",
              "width": 0.5
             },
             "pattern": {
              "fillmode": "overlay",
              "size": 10,
              "solidity": 0.2
             }
            },
            "type": "bar"
           }
          ],
          "barpolar": [
           {
            "marker": {
             "line": {
              "color": "#E5ECF6",
              "width": 0.5
             },
             "pattern": {
              "fillmode": "overlay",
              "size": 10,
              "solidity": 0.2
             }
            },
            "type": "barpolar"
           }
          ],
          "carpet": [
           {
            "aaxis": {
             "endlinecolor": "#2a3f5f",
             "gridcolor": "white",
             "linecolor": "white",
             "minorgridcolor": "white",
             "startlinecolor": "#2a3f5f"
            },
            "baxis": {
             "endlinecolor": "#2a3f5f",
             "gridcolor": "white",
             "linecolor": "white",
             "minorgridcolor": "white",
             "startlinecolor": "#2a3f5f"
            },
            "type": "carpet"
           }
          ],
          "choropleth": [
           {
            "colorbar": {
             "outlinewidth": 0,
             "ticks": ""
            },
            "type": "choropleth"
           }
          ],
          "contour": [
           {
            "colorbar": {
             "outlinewidth": 0,
             "ticks": ""
            },
            "colorscale": [
             [
              0,
              "#0d0887"
             ],
             [
              0.1111111111111111,
              "#46039f"
             ],
             [
              0.2222222222222222,
              "#7201a8"
             ],
             [
              0.3333333333333333,
              "#9c179e"
             ],
             [
              0.4444444444444444,
              "#bd3786"
             ],
             [
              0.5555555555555556,
              "#d8576b"
             ],
             [
              0.6666666666666666,
              "#ed7953"
             ],
             [
              0.7777777777777778,
              "#fb9f3a"
             ],
             [
              0.8888888888888888,
              "#fdca26"
             ],
             [
              1,
              "#f0f921"
             ]
            ],
            "type": "contour"
           }
          ],
          "contourcarpet": [
           {
            "colorbar": {
             "outlinewidth": 0,
             "ticks": ""
            },
            "type": "contourcarpet"
           }
          ],
          "heatmap": [
           {
            "colorbar": {
             "outlinewidth": 0,
             "ticks": ""
            },
            "colorscale": [
             [
              0,
              "#0d0887"
             ],
             [
              0.1111111111111111,
              "#46039f"
             ],
             [
              0.2222222222222222,
              "#7201a8"
             ],
             [
              0.3333333333333333,
              "#9c179e"
             ],
             [
              0.4444444444444444,
              "#bd3786"
             ],
             [
              0.5555555555555556,
              "#d8576b"
             ],
             [
              0.6666666666666666,
              "#ed7953"
             ],
             [
              0.7777777777777778,
              "#fb9f3a"
             ],
             [
              0.8888888888888888,
              "#fdca26"
             ],
             [
              1,
              "#f0f921"
             ]
            ],
            "type": "heatmap"
           }
          ],
          "heatmapgl": [
           {
            "colorbar": {
             "outlinewidth": 0,
             "ticks": ""
            },
            "colorscale": [
             [
              0,
              "#0d0887"
             ],
             [
              0.1111111111111111,
              "#46039f"
             ],
             [
              0.2222222222222222,
              "#7201a8"
             ],
             [
              0.3333333333333333,
              "#9c179e"
             ],
             [
              0.4444444444444444,
              "#bd3786"
             ],
             [
              0.5555555555555556,
              "#d8576b"
             ],
             [
              0.6666666666666666,
              "#ed7953"
             ],
             [
              0.7777777777777778,
              "#fb9f3a"
             ],
             [
              0.8888888888888888,
              "#fdca26"
             ],
             [
              1,
              "#f0f921"
             ]
            ],
            "type": "heatmapgl"
           }
          ],
          "histogram": [
           {
            "marker": {
             "pattern": {
              "fillmode": "overlay",
              "size": 10,
              "solidity": 0.2
             }
            },
            "type": "histogram"
           }
          ],
          "histogram2d": [
           {
            "colorbar": {
             "outlinewidth": 0,
             "ticks": ""
            },
            "colorscale": [
             [
              0,
              "#0d0887"
             ],
             [
              0.1111111111111111,
              "#46039f"
             ],
             [
              0.2222222222222222,
              "#7201a8"
             ],
             [
              0.3333333333333333,
              "#9c179e"
             ],
             [
              0.4444444444444444,
              "#bd3786"
             ],
             [
              0.5555555555555556,
              "#d8576b"
             ],
             [
              0.6666666666666666,
              "#ed7953"
             ],
             [
              0.7777777777777778,
              "#fb9f3a"
             ],
             [
              0.8888888888888888,
              "#fdca26"
             ],
             [
              1,
              "#f0f921"
             ]
            ],
            "type": "histogram2d"
           }
          ],
          "histogram2dcontour": [
           {
            "colorbar": {
             "outlinewidth": 0,
             "ticks": ""
            },
            "colorscale": [
             [
              0,
              "#0d0887"
             ],
             [
              0.1111111111111111,
              "#46039f"
             ],
             [
              0.2222222222222222,
              "#7201a8"
             ],
             [
              0.3333333333333333,
              "#9c179e"
             ],
             [
              0.4444444444444444,
              "#bd3786"
             ],
             [
              0.5555555555555556,
              "#d8576b"
             ],
             [
              0.6666666666666666,
              "#ed7953"
             ],
             [
              0.7777777777777778,
              "#fb9f3a"
             ],
             [
              0.8888888888888888,
              "#fdca26"
             ],
             [
              1,
              "#f0f921"
             ]
            ],
            "type": "histogram2dcontour"
           }
          ],
          "mesh3d": [
           {
            "colorbar": {
             "outlinewidth": 0,
             "ticks": ""
            },
            "type": "mesh3d"
           }
          ],
          "parcoords": [
           {
            "line": {
             "colorbar": {
              "outlinewidth": 0,
              "ticks": ""
             }
            },
            "type": "parcoords"
           }
          ],
          "pie": [
           {
            "automargin": true,
            "type": "pie"
           }
          ],
          "scatter": [
           {
            "fillpattern": {
             "fillmode": "overlay",
             "size": 10,
             "solidity": 0.2
            },
            "type": "scatter"
           }
          ],
          "scatter3d": [
           {
            "line": {
             "colorbar": {
              "outlinewidth": 0,
              "ticks": ""
             }
            },
            "marker": {
             "colorbar": {
              "outlinewidth": 0,
              "ticks": ""
             }
            },
            "type": "scatter3d"
           }
          ],
          "scattercarpet": [
           {
            "marker": {
             "colorbar": {
              "outlinewidth": 0,
              "ticks": ""
             }
            },
            "type": "scattercarpet"
           }
          ],
          "scattergeo": [
           {
            "marker": {
             "colorbar": {
              "outlinewidth": 0,
              "ticks": ""
             }
            },
            "type": "scattergeo"
           }
          ],
          "scattergl": [
           {
            "marker": {
             "colorbar": {
              "outlinewidth": 0,
              "ticks": ""
             }
            },
            "type": "scattergl"
           }
          ],
          "scattermapbox": [
           {
            "marker": {
             "colorbar": {
              "outlinewidth": 0,
              "ticks": ""
             }
            },
            "type": "scattermapbox"
           }
          ],
          "scatterpolar": [
           {
            "marker": {
             "colorbar": {
              "outlinewidth": 0,
              "ticks": ""
             }
            },
            "type": "scatterpolar"
           }
          ],
          "scatterpolargl": [
           {
            "marker": {
             "colorbar": {
              "outlinewidth": 0,
              "ticks": ""
             }
            },
            "type": "scatterpolargl"
           }
          ],
          "scatterternary": [
           {
            "marker": {
             "colorbar": {
              "outlinewidth": 0,
              "ticks": ""
             }
            },
            "type": "scatterternary"
           }
          ],
          "surface": [
           {
            "colorbar": {
             "outlinewidth": 0,
             "ticks": ""
            },
            "colorscale": [
             [
              0,
              "#0d0887"
             ],
             [
              0.1111111111111111,
              "#46039f"
             ],
             [
              0.2222222222222222,
              "#7201a8"
             ],
             [
              0.3333333333333333,
              "#9c179e"
             ],
             [
              0.4444444444444444,
              "#bd3786"
             ],
             [
              0.5555555555555556,
              "#d8576b"
             ],
             [
              0.6666666666666666,
              "#ed7953"
             ],
             [
              0.7777777777777778,
              "#fb9f3a"
             ],
             [
              0.8888888888888888,
              "#fdca26"
             ],
             [
              1,
              "#f0f921"
             ]
            ],
            "type": "surface"
           }
          ],
          "table": [
           {
            "cells": {
             "fill": {
              "color": "#EBF0F8"
             },
             "line": {
              "color": "white"
             }
            },
            "header": {
             "fill": {
              "color": "#C8D4E3"
             },
             "line": {
              "color": "white"
             }
            },
            "type": "table"
           }
          ]
         },
         "layout": {
          "annotationdefaults": {
           "arrowcolor": "#2a3f5f",
           "arrowhead": 0,
           "arrowwidth": 1
          },
          "autotypenumbers": "strict",
          "coloraxis": {
           "colorbar": {
            "outlinewidth": 0,
            "ticks": ""
           }
          },
          "colorscale": {
           "diverging": [
            [
             0,
             "#8e0152"
            ],
            [
             0.1,
             "#c51b7d"
            ],
            [
             0.2,
             "#de77ae"
            ],
            [
             0.3,
             "#f1b6da"
            ],
            [
             0.4,
             "#fde0ef"
            ],
            [
             0.5,
             "#f7f7f7"
            ],
            [
             0.6,
             "#e6f5d0"
            ],
            [
             0.7,
             "#b8e186"
            ],
            [
             0.8,
             "#7fbc41"
            ],
            [
             0.9,
             "#4d9221"
            ],
            [
             1,
             "#276419"
            ]
           ],
           "sequential": [
            [
             0,
             "#0d0887"
            ],
            [
             0.1111111111111111,
             "#46039f"
            ],
            [
             0.2222222222222222,
             "#7201a8"
            ],
            [
             0.3333333333333333,
             "#9c179e"
            ],
            [
             0.4444444444444444,
             "#bd3786"
            ],
            [
             0.5555555555555556,
             "#d8576b"
            ],
            [
             0.6666666666666666,
             "#ed7953"
            ],
            [
             0.7777777777777778,
             "#fb9f3a"
            ],
            [
             0.8888888888888888,
             "#fdca26"
            ],
            [
             1,
             "#f0f921"
            ]
           ],
           "sequentialminus": [
            [
             0,
             "#0d0887"
            ],
            [
             0.1111111111111111,
             "#46039f"
            ],
            [
             0.2222222222222222,
             "#7201a8"
            ],
            [
             0.3333333333333333,
             "#9c179e"
            ],
            [
             0.4444444444444444,
             "#bd3786"
            ],
            [
             0.5555555555555556,
             "#d8576b"
            ],
            [
             0.6666666666666666,
             "#ed7953"
            ],
            [
             0.7777777777777778,
             "#fb9f3a"
            ],
            [
             0.8888888888888888,
             "#fdca26"
            ],
            [
             1,
             "#f0f921"
            ]
           ]
          },
          "colorway": [
           "#636efa",
           "#EF553B",
           "#00cc96",
           "#ab63fa",
           "#FFA15A",
           "#19d3f3",
           "#FF6692",
           "#B6E880",
           "#FF97FF",
           "#FECB52"
          ],
          "font": {
           "color": "#2a3f5f"
          },
          "geo": {
           "bgcolor": "white",
           "lakecolor": "white",
           "landcolor": "#E5ECF6",
           "showlakes": true,
           "showland": true,
           "subunitcolor": "white"
          },
          "hoverlabel": {
           "align": "left"
          },
          "hovermode": "closest",
          "mapbox": {
           "style": "light"
          },
          "paper_bgcolor": "white",
          "plot_bgcolor": "#E5ECF6",
          "polar": {
           "angularaxis": {
            "gridcolor": "white",
            "linecolor": "white",
            "ticks": ""
           },
           "bgcolor": "#E5ECF6",
           "radialaxis": {
            "gridcolor": "white",
            "linecolor": "white",
            "ticks": ""
           }
          },
          "scene": {
           "xaxis": {
            "backgroundcolor": "#E5ECF6",
            "gridcolor": "white",
            "gridwidth": 2,
            "linecolor": "white",
            "showbackground": true,
            "ticks": "",
            "zerolinecolor": "white"
           },
           "yaxis": {
            "backgroundcolor": "#E5ECF6",
            "gridcolor": "white",
            "gridwidth": 2,
            "linecolor": "white",
            "showbackground": true,
            "ticks": "",
            "zerolinecolor": "white"
           },
           "zaxis": {
            "backgroundcolor": "#E5ECF6",
            "gridcolor": "white",
            "gridwidth": 2,
            "linecolor": "white",
            "showbackground": true,
            "ticks": "",
            "zerolinecolor": "white"
           }
          },
          "shapedefaults": {
           "line": {
            "color": "#2a3f5f"
           }
          },
          "ternary": {
           "aaxis": {
            "gridcolor": "white",
            "linecolor": "white",
            "ticks": ""
           },
           "baxis": {
            "gridcolor": "white",
            "linecolor": "white",
            "ticks": ""
           },
           "bgcolor": "#E5ECF6",
           "caxis": {
            "gridcolor": "white",
            "linecolor": "white",
            "ticks": ""
           }
          },
          "title": {
           "x": 0.05
          },
          "xaxis": {
           "automargin": true,
           "gridcolor": "white",
           "linecolor": "white",
           "ticks": "",
           "title": {
            "standoff": 15
           },
           "zerolinecolor": "white",
           "zerolinewidth": 2
          },
          "yaxis": {
           "automargin": true,
           "gridcolor": "white",
           "linecolor": "white",
           "ticks": "",
           "title": {
            "standoff": 15
           },
           "zerolinecolor": "white",
           "zerolinewidth": 2
          }
         }
        }
       }
      },
      "text/html": [
       "<div>                            <div id=\"6c572769-34b7-4fca-9301-1157ae2a1567\" class=\"plotly-graph-div\" style=\"height:525px; width:100%;\"></div>            <script type=\"text/javascript\">                require([\"plotly\"], function(Plotly) {                    window.PLOTLYENV=window.PLOTLYENV || {};                                    if (document.getElementById(\"6c572769-34b7-4fca-9301-1157ae2a1567\")) {                    Plotly.newPlot(                        \"6c572769-34b7-4fca-9301-1157ae2a1567\",                        [{\"name\":\"part1\",\"x\":[\"part_label1\",\"part_label1\",\"part_label1\",\"part_label1\",\"part_label1\",\"part_label1\",\"part_label1\",\"part_label1\",\"part_label1\",\"part_label1\",\"part_label1\",\"part_label1\",\"part_label1\",\"part_label1\",\"part_label1\",\"part_label1\",\"part_label1\",\"part_label1\",\"part_label1\",\"part_label1\",\"part_label1\",\"part_label1\",\"part_label1\",\"part_label1\",\"part_label1\",\"part_label1\",\"part_label1\",\"part_label1\",\"part_label1\",\"part_label1\",\"part_label1\",\"part_label1\",\"part_label1\",\"part_label1\",\"part_label1\",\"part_label1\",\"part_label1\",\"part_label1\",\"part_label1\",\"part_label1\",\"part_label1\",\"part_label1\",\"part_label1\",\"part_label1\",\"part_label1\",\"part_label1\",\"part_label1\",\"part_label1\",\"part_label1\",\"part_label1\",\"part_label1\",\"part_label1\",\"part_label1\",\"part_label1\",\"part_label1\",\"part_label1\",\"part_label1\",\"part_label1\",\"part_label1\",\"part_label1\",\"part_label1\",\"part_label1\",\"part_label1\",\"part_label1\",\"part_label1\",\"part_label1\",\"part_label1\",\"part_label1\",\"part_label1\",\"part_label1\",\"part_label1\",\"part_label1\",\"part_label1\",\"part_label1\",\"part_label1\",\"part_label1\",\"part_label1\",\"part_label1\",\"part_label1\",\"part_label1\",\"part_label1\",\"part_label1\",\"part_label1\",\"part_label1\",\"part_label1\",\"part_label1\",\"part_label1\",\"part_label1\",\"part_label1\",\"part_label1\",\"part_label1\",\"part_label1\",\"part_label1\",\"part_label1\",\"part_label1\",\"part_label1\",\"part_label1\",\"part_label1\",\"part_label1\",\"part_label1\",\"part_label1\",\"part_label1\",\"part_label1\",\"part_label1\",\"part_label1\",\"part_label1\",\"part_label1\",\"part_label1\",\"part_label1\",\"part_label1\",\"part_label1\",\"part_label1\",\"part_label1\",\"part_label1\",\"part_label1\",\"part_label1\",\"part_label1\",\"part_label1\",\"part_label1\",\"part_pred1\",\"part_pred1\",\"part_pred1\",\"part_pred1\",\"part_pred1\",\"part_pred1\",\"part_pred1\",\"part_pred1\",\"part_pred1\",\"part_pred1\",\"part_pred1\",\"part_pred1\",\"part_pred1\",\"part_pred1\",\"part_pred1\",\"part_pred1\",\"part_pred1\",\"part_pred1\",\"part_pred1\",\"part_pred1\",\"part_pred1\",\"part_pred1\",\"part_pred1\",\"part_pred1\",\"part_pred1\",\"part_pred1\",\"part_pred1\",\"part_pred1\",\"part_pred1\",\"part_pred1\",\"part_pred1\",\"part_pred1\",\"part_pred1\",\"part_pred1\",\"part_pred1\",\"part_pred1\",\"part_pred1\",\"part_pred1\",\"part_pred1\",\"part_pred1\",\"part_pred1\",\"part_pred1\",\"part_pred1\",\"part_pred1\",\"part_pred1\",\"part_pred1\",\"part_pred1\",\"part_pred1\",\"part_pred1\",\"part_pred1\",\"part_pred1\",\"part_pred1\",\"part_pred1\",\"part_pred1\",\"part_pred1\",\"part_pred1\",\"part_pred1\",\"part_pred1\",\"part_pred1\",\"part_pred1\",\"part_pred1\",\"part_pred1\",\"part_pred1\",\"part_pred1\",\"part_pred1\",\"part_pred1\",\"part_pred1\",\"part_pred1\",\"part_pred1\",\"part_pred1\",\"part_pred1\",\"part_pred1\",\"part_pred1\",\"part_pred1\",\"part_pred1\",\"part_pred1\",\"part_pred1\",\"part_pred1\",\"part_pred1\",\"part_pred1\",\"part_pred1\",\"part_pred1\",\"part_pred1\",\"part_pred1\",\"part_pred1\",\"part_pred1\",\"part_pred1\",\"part_pred1\",\"part_pred1\",\"part_pred1\",\"part_pred1\",\"part_pred1\",\"part_pred1\",\"part_pred1\",\"part_pred1\",\"part_pred1\",\"part_pred1\",\"part_pred1\",\"part_pred1\",\"part_pred1\",\"part_pred1\",\"part_pred1\",\"part_pred1\",\"part_pred1\",\"part_pred1\",\"part_pred1\",\"part_pred1\",\"part_pred1\",\"part_pred1\",\"part_pred1\",\"part_pred1\",\"part_pred1\",\"part_pred1\",\"part_pred1\",\"part_pred1\",\"part_pred1\",\"part_pred1\",\"part_pred1\",\"part_pred1\",\"part_pred1\",\"part_pred1\",\"part_pred1\",\"part_pred1\",\"part_pred1\",\"part_pred1\",\"part_pred1\",\"part_pred1\",\"part_pred1\",\"part_pred1\",\"part_pred1\",\"part_pred1\",\"part_pred1\",\"part_pred1\",\"part_pred1\",\"part_pred1\",\"part_pred1\",\"part_pred1\",\"part_pred1\",\"part_pred1\",\"part_pred1\",\"part_pred1\",\"part_pred1\",\"part_pred1\",\"part_pred1\",\"part_pred1\",\"part_pred1\",\"part_pred1\",\"part_pred1\",\"part_pred1\",\"part_pred1\",\"part_pred1\",\"part_pred1\",\"part_pred1\",\"part_pred1\",\"part_pred1\",\"part_pred1\",\"part_pred1\",\"part_pred1\",\"part_pred1\",\"part_pred1\"],\"y\":[0.785804,0.44521284,0.39586475,0.96832234,0.32811743,0.9443098,0.09025651,0.27743748,0.35644403,0.9569342,0.9217418,0.68433243,0.577215,0.5086121,0.24148677,0.82246614,0.67023486,0.73993886,0.966801,0.6516494,0.38093692,0.8400108,0.5378427,0.026634954,0.7179923,0.40353507,0.1302183,0.7055477,0.96431255,0.8770544,0.61828256,0.8823348,0.5306927,0.8064158,0.82910377,0.88990206,0.5952601,0.40856233,0.45902362,0.10643417,0.45505324,0.6626794,0.39851922,0.27842665,0.12259839,0.53765535,0.68304867,0.97221595,0.19346309,0.39313227,0.032644607,0.55977046,0.15969162,0.8589355,0.22521554,0.65951174,0.063999586,0.2249323,0.73320866,0.48641273,0.9003094,0.8807955,0.9053358,0.42453644,0.660338,0.27957326,0.5091155,0.39132187,0.42306888,0.4140441,0.7853588,0.00024920996,0.29772645,0.8474966,0.62999153,0.59564424,0.52985954,0.39905357,0.85331243,0.2774865,0.21960545,0.787485,0.6727555,0.6474931,0.98600346,0.3674493,0.50168985,0.4807967,0.15873027,0.98705137,0.013415861,0.12653847,0.006139134,0.92187375,0.8872009,0.84998524,0.6422774,0.73993886,0.5237219,0.7125428,0.47733697,0.10597965,0.80508393,0.008517135,0.7548643,0.05885601,0.94533795,0.13220924,0.48656973,0.8074728,0.5817908,0.5917272,0.5868071,0.6885853,0.7290671,0.75474644,0.5765536,0.7697722,0.74131304,0.7558592,0.9292036,0.92962986,0.6587337,0.99960464,0.45258328,0.8756382,0.68360806,0.776206,0.2544352,0.9749937,0.7313498,0.7403828,0.7643757,0.6591349,0.46561638,0.9321328,0.95847315,0.96329105,0.5571495,0.93594927,0.8951643,0.98625326,0.97602105,0.93594927,0.8293777,0.46225336,0.28279147,-0.0151823275,0.9721824,0.6990399,0.54306144,0.8775216,0.44907016,0.3911486,0.918059,0.4491336,0.3295515,0.9993671,0.5690936,0.6406279,0.43397018,0.27922115,0.84299713,0.94855285,0.35650414,0.87947094,0.45258328,0.9895824,0.59982574,0.86839104,0.39154738,0.6973801,0.4087231,0.72406775,0.6053754,0.91757387,0.45956877,0.922115,0.58878267,0.11765594,0.29736158,0.7784127,0.9331398,0.34885994,0.40231103,0.7069409,0.11556742,0.9242864,0.9306178,0.16737929,0.37334323,0.9205051,0.42646918,0.5388903,0.6826739,0.99226904,0.7188228,0.96248555,0.83584654,0.74513227,0.9092021,0.939086,0.9351036,0.75191027,0.52889544,0.82189035,0.513016,0.64302075,0.243813,0.97834337,0.84569246,0.9578273,0.754292,0.54947776,0.9360523,0.8174808,0.42899236,0.6294304,0.061177436,0.84342563,0.42175665,0.8458597,0.90843505,0.6129272,0.75299346,0.2872706,0.99914545,0.43155947,0.93547344,0.6222862,0.65309054,0.41703036,0.36903837,0.88501185,0.6611214,0.69227743,0.52922654,0.3789979,0.9308376,0.64512,0.6872731,0.81326324,0.6126674,0.10268613,0.8709095,0.96752137,0.6937496,0.87142307,0.46968982,0.600562,0.53788835,0.91440123,0.6366728,0.97516966,0.5804417,0.48526126,0.5002789,0.8128751,0.5461392,0.51371723,0.2743658,0.6579934,0.8124819,0.20389478,0.60780835,0.98599184,0.9578273,0.5746974,0.7794448,0.5400534,0.8386436,0.618707,0.313091,0.25742275,0.3538918,0.9601016,0.9457826,0.15512395,0.45308223],\"type\":\"box\"},{\"name\":\"part2\",\"x\":[\"part_label2\",\"part_label2\",\"part_label2\",\"part_label2\",\"part_label2\",\"part_label2\",\"part_label2\",\"part_label2\",\"part_label2\",\"part_label2\",\"part_label2\",\"part_label2\",\"part_label2\",\"part_label2\",\"part_label2\",\"part_label2\",\"part_label2\",\"part_label2\",\"part_label2\",\"part_label2\",\"part_label2\",\"part_label2\",\"part_label2\",\"part_label2\",\"part_label2\",\"part_label2\",\"part_label2\",\"part_label2\",\"part_label2\",\"part_label2\",\"part_label2\",\"part_label2\",\"part_label2\",\"part_label2\",\"part_label2\",\"part_label2\",\"part_label2\",\"part_label2\",\"part_label2\",\"part_label2\",\"part_label2\",\"part_label2\",\"part_label2\",\"part_label2\",\"part_label2\",\"part_label2\",\"part_label2\",\"part_label2\",\"part_label2\",\"part_label2\",\"part_label2\",\"part_label2\",\"part_label2\",\"part_label2\",\"part_label2\",\"part_label2\",\"part_label2\",\"part_label2\",\"part_label2\",\"part_label2\",\"part_label2\",\"part_label2\",\"part_label2\",\"part_label2\",\"part_label2\",\"part_label2\",\"part_label2\",\"part_label2\",\"part_label2\",\"part_label2\",\"part_label2\",\"part_label2\",\"part_label2\",\"part_label2\",\"part_label2\",\"part_label2\",\"part_label2\",\"part_label2\",\"part_label2\",\"part_label2\",\"part_label2\",\"part_label2\",\"part_label2\",\"part_label2\",\"part_label2\",\"part_label2\",\"part_label2\",\"part_label2\",\"part_label2\",\"part_label2\",\"part_label2\",\"part_label2\",\"part_label2\",\"part_label2\",\"part_label2\",\"part_label2\",\"part_label2\",\"part_label2\",\"part_label2\",\"part_label2\",\"part_label2\",\"part_label2\",\"part_label2\",\"part_label2\",\"part_label2\",\"part_label2\",\"part_label2\",\"part_label2\",\"part_label2\",\"part_label2\",\"part_label2\",\"part_label2\",\"part_pred2\",\"part_pred2\",\"part_pred2\",\"part_pred2\",\"part_pred2\",\"part_pred2\",\"part_pred2\",\"part_pred2\",\"part_pred2\",\"part_pred2\",\"part_pred2\",\"part_pred2\",\"part_pred2\",\"part_pred2\",\"part_pred2\",\"part_pred2\",\"part_pred2\",\"part_pred2\",\"part_pred2\",\"part_pred2\",\"part_pred2\",\"part_pred2\",\"part_pred2\",\"part_pred2\",\"part_pred2\",\"part_pred2\",\"part_pred2\",\"part_pred2\",\"part_pred2\",\"part_pred2\",\"part_pred2\",\"part_pred2\",\"part_pred2\",\"part_pred2\",\"part_pred2\",\"part_pred2\",\"part_pred2\",\"part_pred2\",\"part_pred2\",\"part_pred2\",\"part_pred2\",\"part_pred2\",\"part_pred2\",\"part_pred2\",\"part_pred2\",\"part_pred2\",\"part_pred2\",\"part_pred2\",\"part_pred2\",\"part_pred2\",\"part_pred2\",\"part_pred2\",\"part_pred2\",\"part_pred2\",\"part_pred2\",\"part_pred2\",\"part_pred2\",\"part_pred2\",\"part_pred2\",\"part_pred2\",\"part_pred2\",\"part_pred2\",\"part_pred2\",\"part_pred2\",\"part_pred2\",\"part_pred2\",\"part_pred2\",\"part_pred2\",\"part_pred2\",\"part_pred2\",\"part_pred2\",\"part_pred2\",\"part_pred2\",\"part_pred2\",\"part_pred2\",\"part_pred2\",\"part_pred2\",\"part_pred2\",\"part_pred2\",\"part_pred2\",\"part_pred2\",\"part_pred2\",\"part_pred2\",\"part_pred2\",\"part_pred2\",\"part_pred2\",\"part_pred2\",\"part_pred2\",\"part_pred2\",\"part_pred2\",\"part_pred2\",\"part_pred2\",\"part_pred2\",\"part_pred2\",\"part_pred2\",\"part_pred2\",\"part_pred2\",\"part_pred2\",\"part_pred2\",\"part_pred2\",\"part_pred2\",\"part_pred2\",\"part_pred2\",\"part_pred2\",\"part_pred2\",\"part_pred2\",\"part_pred2\",\"part_pred2\",\"part_pred2\",\"part_pred2\",\"part_pred2\",\"part_pred2\",\"part_pred2\",\"part_pred2\",\"part_pred2\",\"part_pred2\",\"part_pred2\",\"part_pred2\",\"part_pred2\",\"part_pred2\",\"part_pred2\",\"part_pred2\",\"part_pred2\",\"part_pred2\",\"part_pred2\",\"part_pred2\",\"part_pred2\",\"part_pred2\",\"part_pred2\",\"part_pred2\",\"part_pred2\",\"part_pred2\",\"part_pred2\",\"part_pred2\",\"part_pred2\",\"part_pred2\",\"part_pred2\",\"part_pred2\",\"part_pred2\",\"part_pred2\",\"part_pred2\",\"part_pred2\",\"part_pred2\",\"part_pred2\",\"part_pred2\",\"part_pred2\",\"part_pred2\",\"part_pred2\",\"part_pred2\",\"part_pred2\",\"part_pred2\",\"part_pred2\",\"part_pred2\",\"part_pred2\",\"part_pred2\",\"part_pred2\",\"part_pred2\",\"part_pred2\",\"part_pred2\",\"part_pred2\",\"part_pred2\",\"part_pred2\",\"part_pred2\",\"part_pred2\",\"part_pred2\",\"part_pred2\",\"part_pred2\",\"part_pred2\",\"part_pred2\",\"part_pred2\",\"part_pred2\",\"part_pred2\",\"part_pred2\",\"part_pred2\",\"part_pred2\",\"part_pred2\",\"part_pred2\",\"part_pred2\",\"part_pred2\",\"part_pred2\",\"part_pred2\",\"part_pred2\",\"part_pred2\",\"part_pred2\",\"part_pred2\",\"part_pred2\",\"part_pred2\",\"part_pred2\",\"part_pred2\",\"part_pred2\",\"part_pred2\",\"part_pred2\",\"part_pred2\",\"part_pred2\",\"part_pred2\",\"part_pred2\",\"part_pred2\",\"part_pred2\",\"part_pred2\",\"part_pred2\",\"part_pred2\",\"part_pred2\",\"part_pred2\",\"part_pred2\",\"part_pred2\",\"part_pred2\",\"part_pred2\",\"part_pred2\",\"part_pred2\",\"part_pred2\",\"part_pred2\",\"part_pred2\",\"part_pred2\",\"part_pred2\",\"part_pred2\",\"part_pred2\",\"part_pred2\",\"part_pred2\",\"part_pred2\",\"part_pred2\",\"part_pred2\",\"part_pred2\",\"part_pred2\",\"part_pred2\",\"part_pred2\",\"part_pred2\",\"part_pred2\",\"part_pred2\",\"part_pred2\",\"part_pred2\",\"part_pred2\",\"part_pred2\",\"part_pred2\",\"part_pred2\",\"part_pred2\",\"part_pred2\",\"part_pred2\",\"part_pred2\",\"part_pred2\",\"part_pred2\",\"part_pred2\",\"part_pred2\",\"part_pred2\",\"part_pred2\",\"part_pred2\",\"part_pred2\",\"part_pred2\"],\"y\":[1.6867595,1.4028811,1.9610455,1.7446394,1.9217024,1.3659079,1.0589803,1.7987766,1.6756654,1.2481568,1.7987766,1.1944057,1.568483,1.2149749,1.085266,1.5110377,1.2161728,1.1995275,1.7010361,1.7530435,1.1964375,1.7141732,1.3352337,1.8981994,1.40176,1.6651763,1.0861931,1.6132956,1.042822,1.0285027,1.6104759,1.146758,1.0326658,1.3960248,1.8275262,1.4081397,1.529594,1.9011862,1.4165957,1.437824,1.8656284,1.2767619,1.3263024,1.4419386,1.9076214,1.3576335,1.3183583,1.5841268,1.4932142,1.5516438,1.796704,1.1447035,1.3495588,1.3495588,1.2087622,1.0659063,1.1679044,1.6318833,1.3342019,1.1379474,1.5567731,1.2694014,1.4635562,1.5223656,1.3157711,1.0521694,1.4017029,1.0951461,1.9314246,1.588879,1.9816015,1.6500942,1.2065678,1.7163988,1.1647655,1.9219115,1.8580117,1.0537331,1.6196187,1.3002113,1.3490072,1.986375,1.9470273,1.9914744,1.4581921,1.506191,1.203006,1.17103,1.1106223,1.0988442,1.9076797,1.5634586,1.4644179,1.4779264,1.5656203,1.04139,1.8350692,1.5665169,1.0991946,1.2341535,1.4913554,1.0691289,1.8301462,1.1886264,1.0354083,1.072197,1.9588407,1.4183024,1.5567731,1.2988913,1.1225953,1.7992787,1.2407086,1.6485665,1.0765159,1.6253273,1.5881344,1.8444161,1.6518813,1.2459357,1.4730278,1.4798535,1.6409771,1.4433315,1.5440965,1.109846,1.8233451,1.5795761,1.6240376,1.1157558,1.0386109,1.0837135,1.535166,1.0345966,1.5252146,1.2476994,1.2060268,1.9386404,1.7752699,1.1754899,1.1397623,1.8303037,1.1090077,1.164134,1.0689374,1.3778523,1.9382744,1.2047924,1.2720454,1.3174775,1.3556124,1.7693062,1.5212505,1.5389688,1.2258853,1.9529693,1.1706562,1.5247811,1.5059322,1.1513983,1.8674595,1.3019116,1.9344307,1.9386404,1.0297551,1.1626703,1.2284452,1.7811995,1.365561,1.3956015,1.3124857,1.6944135,1.7401447,1.1171241,1.0844539,1.313388,1.69475,1.0253545,1.6199111,1.69475,1.7086768,1.8718393,1.3130726,1.06766,1.2082106,1.0155323,1.90605,1.1018497,1.5584142,1.4206896,1.385851,1.8149223,1.5704868,1.2434415,1.6608967,1.3801936,1.3343006,1.3591558,1.9128782,1.3760619,1.3516233,1.1549062,1.5422237,1.313388,1.3021469,1.5417513,1.8329192,1.6302284,1.7271298,1.9254636,1.2091874,1.3735822,1.9101865,1.8022633,1.1884043,1.3349254,1.5807306,1.0574696,1.8502915,1.8997269,1.3996301,1.4963704,1.4476502,1.0135138,1.8241234,1.7683076,1.8648111,1.0155866,1.8642205,1.1430073,1.1128862,1.1846594,1.0358783,1.7391465,1.202108,1.8180057,1.9283772,1.7271298,1.077081,1.2258853,1.863442,1.6464033,1.3068974,1.8526999,1.066863,1.6429195,1.0686187,1.3640335,1.297482,1.6528478,1.2055583,1.9791974,1.3021195,1.4766797,1.0454988,1.270727,1.5928915,1.6336921,1.8718393,1.9406074,1.4512221,1.339033,1.4086136,1.4536749,1.4003489,1.6963397,1.6032038,1.837921,1.2684976,1.1031771,1.8744373,1.0205244,1.0276139,1.6823044,1.0511593,1.6238331,1.3405068,1.9487619,1.5326458,1.3710651,1.2089233,1.2434415,1.1301231,1.7695411,1.8674488,1.5281564,1.7922235,1.1276768,1.4148726,1.1534557,1.816476,1.2661788,1.4677317,1.9028146,1.8249577,1.1541582,1.7429464,1.4673576,1.7098079,1.2266629,1.9727921,1.1373401,1.1751014,1.5160539,1.6159489,1.3826764,1.2896796,1.0145937,1.0705352,1.7287899,1.3287494,1.5246028,1.0739949,1.6084641,1.5203251,1.0268478,1.4470403,1.2134916,1.3591558,1.1980404,1.7711729,1.9743625,1.8181412,1.3273993,1.8755457,1.1704897,1.4709861,1.3389698,1.1776608,1.4053997,1.5929908,1.7494525,1.0262522,1.0514663,1.0163127,1.0396129,1.3449494,1.5297312,1.1284823,1.483423,1.6305444,1.1293254,1.1782093,1.9154714,1.2677524,1.5487878,1.7609531,1.8215348,1.1938359,1.5424824,1.0593119,1.028538,1.2337939,1.0097193,1.12452,1.5048814,1.1951635,1.9386404,1.2284456],\"type\":\"box\"},{\"name\":\"part3\",\"x\":[\"part_label3\",\"part_label3\",\"part_label3\",\"part_label3\",\"part_label3\",\"part_label3\",\"part_label3\",\"part_label3\",\"part_label3\",\"part_label3\",\"part_label3\",\"part_label3\",\"part_label3\",\"part_label3\",\"part_label3\",\"part_label3\",\"part_label3\",\"part_label3\",\"part_label3\",\"part_label3\",\"part_label3\",\"part_label3\",\"part_label3\",\"part_label3\",\"part_label3\",\"part_label3\",\"part_label3\",\"part_label3\",\"part_label3\",\"part_label3\",\"part_label3\",\"part_label3\",\"part_label3\",\"part_label3\",\"part_label3\",\"part_label3\",\"part_label3\",\"part_label3\",\"part_label3\",\"part_label3\",\"part_label3\",\"part_label3\",\"part_label3\",\"part_label3\",\"part_label3\",\"part_label3\",\"part_label3\",\"part_label3\",\"part_label3\",\"part_label3\",\"part_label3\",\"part_label3\",\"part_label3\",\"part_label3\",\"part_label3\",\"part_label3\",\"part_label3\",\"part_label3\",\"part_label3\",\"part_label3\",\"part_label3\",\"part_label3\",\"part_label3\",\"part_label3\",\"part_label3\",\"part_label3\",\"part_label3\",\"part_label3\",\"part_label3\",\"part_label3\",\"part_label3\",\"part_label3\",\"part_label3\",\"part_label3\",\"part_label3\",\"part_label3\",\"part_label3\",\"part_label3\",\"part_label3\",\"part_label3\",\"part_label3\",\"part_label3\",\"part_label3\",\"part_label3\",\"part_label3\",\"part_label3\",\"part_label3\",\"part_label3\",\"part_label3\",\"part_label3\",\"part_label3\",\"part_label3\",\"part_label3\",\"part_label3\",\"part_label3\",\"part_pred3\",\"part_pred3\",\"part_pred3\",\"part_pred3\",\"part_pred3\",\"part_pred3\",\"part_pred3\",\"part_pred3\",\"part_pred3\",\"part_pred3\",\"part_pred3\",\"part_pred3\",\"part_pred3\",\"part_pred3\",\"part_pred3\",\"part_pred3\",\"part_pred3\",\"part_pred3\",\"part_pred3\",\"part_pred3\",\"part_pred3\",\"part_pred3\",\"part_pred3\",\"part_pred3\",\"part_pred3\",\"part_pred3\",\"part_pred3\",\"part_pred3\",\"part_pred3\",\"part_pred3\",\"part_pred3\",\"part_pred3\",\"part_pred3\",\"part_pred3\",\"part_pred3\",\"part_pred3\",\"part_pred3\",\"part_pred3\",\"part_pred3\",\"part_pred3\",\"part_pred3\",\"part_pred3\",\"part_pred3\",\"part_pred3\",\"part_pred3\",\"part_pred3\",\"part_pred3\",\"part_pred3\",\"part_pred3\",\"part_pred3\",\"part_pred3\",\"part_pred3\",\"part_pred3\",\"part_pred3\",\"part_pred3\",\"part_pred3\",\"part_pred3\",\"part_pred3\",\"part_pred3\",\"part_pred3\",\"part_pred3\"],\"y\":[2.2420213,2.9418461,2.9086375,2.315094,2.3312864,2.0634189,2.7433999,2.0409641,2.405548,2.6430852,2.8973103,2.464681,2.6796877,2.4714417,2.34398,2.3908107,2.0248778,2.5495324,2.5443695,2.2596526,2.27873,2.5788677,2.7758555,2.0652072,2.570185,2.1732857,2.6094632,2.434331,2.7459307,2.0643942,2.6163208,2.3390062,2.7495613,2.5221007,2.6529462,2.0844347,2.0360153,2.9962802,2.7705302,2.7710388,2.2359767,2.1010425,2.6114295,2.578703,2.5465896,2.3234117,2.151504,2.133437,2.3060923,2.839658,2.0065033,2.5465896,2.3234117,2.296087,2.176836,2.368589,2.0581896,2.1521208,2.464955,2.251763,2.2519991,2.8762095,2.9308813,2.1924386,2.108017,2.5490015,2.6053777,2.4833775,2.8370109,2.9651597,2.9596422,2.484549,2.3878005,2.087591,2.8211508,2.2243288,2.7570539,2.8027723,2.644829,2.1042407,2.6488557,2.6069686,2.979262,2.6145802,2.9333696,2.2299771,2.1885858,2.9317305,2.2955265,2.5367343,2.3068476,2.9790354,2.6162143,2.0309565,2.0587049,2.098573,2.2386909,2.214158,2.0920165,2.3409634,2.2102265,2.442958,2.093964,2.0449634,2.3585048,2.0311518,2.4223905,2.2138867,2.6787698,2.5312192,2.3312473,2.5380623,2.3391852,2.2321033,2.4210355,2.3605502,2.2215781,2.2493193,2.2483068,2.0567653,2.0126083,2.417116,2.433971,2.0857916,2.8332286,2.0230405,2.3934839,2.9937837,2.840531,2.0205936,2.527218,2.1530714,2.0757146,2.1443744,2.8955925,2.1964684,2.11805,2.4682405,2.0202506,2.518542,2.0112169,2.5192938,2.1452684,2.1242208,2.4925327,2.9565954,2.4504838,2.0324113,2.0906806,2.1989198,2.215559,2.5496347,2.5901458,2.0719805,2.3759027,2.1255028],\"type\":\"box\"},{\"name\":\"part4\",\"x\":[\"part_label4\",\"part_label4\",\"part_label4\",\"part_label4\",\"part_label4\",\"part_label4\",\"part_label4\",\"part_label4\",\"part_label4\",\"part_label4\",\"part_label4\",\"part_label4\",\"part_label4\",\"part_label4\",\"part_label4\",\"part_label4\",\"part_label4\",\"part_label4\",\"part_label4\",\"part_label4\",\"part_label4\",\"part_label4\",\"part_label4\",\"part_label4\",\"part_label4\",\"part_label4\",\"part_label4\",\"part_label4\",\"part_label4\",\"part_label4\",\"part_label4\",\"part_label4\",\"part_label4\",\"part_label4\",\"part_label4\",\"part_label4\",\"part_label4\",\"part_label4\",\"part_label4\",\"part_label4\",\"part_label4\",\"part_label4\",\"part_label4\",\"part_label4\",\"part_label4\",\"part_label4\",\"part_label4\",\"part_label4\",\"part_label4\",\"part_label4\",\"part_label4\",\"part_label4\",\"part_label4\",\"part_label4\",\"part_label4\",\"part_label4\",\"part_label4\",\"part_label4\",\"part_label4\",\"part_label4\",\"part_label4\",\"part_label4\",\"part_label4\",\"part_label4\",\"part_label4\",\"part_label4\",\"part_label4\",\"part_label4\",\"part_label4\",\"part_label4\",\"part_label4\",\"part_label4\",\"part_label4\",\"part_label4\",\"part_label4\",\"part_pred4\",\"part_pred4\",\"part_pred4\",\"part_pred4\",\"part_pred4\",\"part_pred4\",\"part_pred4\",\"part_pred4\",\"part_pred4\",\"part_pred4\",\"part_pred4\",\"part_pred4\",\"part_pred4\"],\"y\":[3.9941597,3.9501343,3.4003527,3.5887501,3.9789994,3.792015,3.9352417,3.015607,3.7819135,3.6233175,3.861331,3.1086757,3.7781827,3.4351902,3.2156096,3.3198297,3.6897104,3.5344298,3.071466,3.5258193,3.9332788,3.373641,3.3415513,3.325271,3.5122209,3.245804,3.805241,3.6459272,3.2295973,3.1872544,3.8117776,3.803509,3.8027935,3.319268,3.6145937,3.7633982,3.644668,3.2264783,3.9789994,3.249473,3.9941597,3.0447648,3.1425118,3.0670455,3.273224,3.2284286,3.3457184,3.8498344,3.5390573,3.1036851,3.0134168,3.9333315,3.0550427,3.6226056,3.281809,3.521975,3.5950444,3.3976738,3.632705,3.762977,3.3167708,3.0584488,3.9979172,3.47007,3.6303086,3.7489738,3.245564,3.0934038,3.994185,3.9392617,3.6449995,3.6338682,3.1598356,3.146405,3.382737,3.1654985,3.0846345,3.5130596,3.344537,3.5501966,3.513574,3.1715572,3.872059,3.5386198,3.3204746,3.2015817,3.0227256,3.6721551],\"type\":\"box\"},{\"name\":\"part5\",\"x\":[\"part_label5\",\"part_label5\",\"part_label5\",\"part_label5\",\"part_label5\",\"part_label5\",\"part_label5\",\"part_label5\",\"part_label5\",\"part_label5\",\"part_label5\",\"part_label5\",\"part_label5\",\"part_label5\",\"part_label5\",\"part_label5\",\"part_label5\",\"part_label5\",\"part_label5\",\"part_label5\",\"part_label5\",\"part_label5\",\"part_label5\",\"part_label5\",\"part_label5\",\"part_label5\",\"part_label5\",\"part_label5\",\"part_label5\",\"part_label5\",\"part_label5\",\"part_label5\",\"part_label5\",\"part_label5\",\"part_label5\",\"part_label5\",\"part_label5\",\"part_label5\",\"part_label5\",\"part_label5\",\"part_label5\",\"part_label5\",\"part_label5\"],\"y\":[4.955558,4.4997034,4.8985996,4.987074,4.5968432,4.129876,4.3471756,4.227588,4.0132093,4.920907,4.724325,4.582763,4.3884344,4.7130384,4.916053,4.462421,4.650178,4.146277,4.589575,4.6596565,4.788467,4.5016017,4.907833,4.297476,4.1310835,4.7343235,4.482393,4.5743117,4.486954,4.129876,4.2415805,4.45022,4.880039,4.850673,4.1881146,4.852684,4.4783483,4.09511,4.880111,4.6550245,4.465811,4.404353,4.1894083],\"type\":\"box\"},{\"name\":\"part6\",\"x\":[\"part_label6\",\"part_label6\",\"part_label6\",\"part_label6\",\"part_label6\",\"part_label6\",\"part_label6\",\"part_label6\",\"part_label6\",\"part_label6\",\"part_label6\",\"part_label6\",\"part_label6\",\"part_label6\",\"part_label6\",\"part_label6\",\"part_label6\",\"part_label6\",\"part_label6\",\"part_label6\",\"part_label6\",\"part_label6\",\"part_label6\",\"part_label6\",\"part_label6\",\"part_label6\",\"part_label6\",\"part_label6\",\"part_label6\",\"part_label6\",\"part_label6\",\"part_label6\"],\"y\":[5.092501,5.6478763,5.541167,5.1006017,5.517507,5.071741,5.0973406,5.397872,5.6841726,5.753014,5.9156437,5.6116095,5.437869,5.652316,5.4705086,5.280406,5.5733604,5.3754344,5.186628,5.1976266,5.0402064,5.096219,5.1541915,5.160126,5.589674,5.374095,5.3480577,5.17196,5.348627,5.1612525,5.1071277,5.6292844],\"type\":\"box\"},{\"name\":\"part7\",\"x\":[\"part_label7\",\"part_label7\",\"part_label7\",\"part_label7\",\"part_label7\"],\"y\":[6.073928,6.2079654,6.0146456,6.2079654,6.1848354],\"type\":\"box\"}],                        {\"template\":{\"data\":{\"histogram2dcontour\":[{\"type\":\"histogram2dcontour\",\"colorbar\":{\"outlinewidth\":0,\"ticks\":\"\"},\"colorscale\":[[0.0,\"#0d0887\"],[0.1111111111111111,\"#46039f\"],[0.2222222222222222,\"#7201a8\"],[0.3333333333333333,\"#9c179e\"],[0.4444444444444444,\"#bd3786\"],[0.5555555555555556,\"#d8576b\"],[0.6666666666666666,\"#ed7953\"],[0.7777777777777778,\"#fb9f3a\"],[0.8888888888888888,\"#fdca26\"],[1.0,\"#f0f921\"]]}],\"choropleth\":[{\"type\":\"choropleth\",\"colorbar\":{\"outlinewidth\":0,\"ticks\":\"\"}}],\"histogram2d\":[{\"type\":\"histogram2d\",\"colorbar\":{\"outlinewidth\":0,\"ticks\":\"\"},\"colorscale\":[[0.0,\"#0d0887\"],[0.1111111111111111,\"#46039f\"],[0.2222222222222222,\"#7201a8\"],[0.3333333333333333,\"#9c179e\"],[0.4444444444444444,\"#bd3786\"],[0.5555555555555556,\"#d8576b\"],[0.6666666666666666,\"#ed7953\"],[0.7777777777777778,\"#fb9f3a\"],[0.8888888888888888,\"#fdca26\"],[1.0,\"#f0f921\"]]}],\"heatmap\":[{\"type\":\"heatmap\",\"colorbar\":{\"outlinewidth\":0,\"ticks\":\"\"},\"colorscale\":[[0.0,\"#0d0887\"],[0.1111111111111111,\"#46039f\"],[0.2222222222222222,\"#7201a8\"],[0.3333333333333333,\"#9c179e\"],[0.4444444444444444,\"#bd3786\"],[0.5555555555555556,\"#d8576b\"],[0.6666666666666666,\"#ed7953\"],[0.7777777777777778,\"#fb9f3a\"],[0.8888888888888888,\"#fdca26\"],[1.0,\"#f0f921\"]]}],\"heatmapgl\":[{\"type\":\"heatmapgl\",\"colorbar\":{\"outlinewidth\":0,\"ticks\":\"\"},\"colorscale\":[[0.0,\"#0d0887\"],[0.1111111111111111,\"#46039f\"],[0.2222222222222222,\"#7201a8\"],[0.3333333333333333,\"#9c179e\"],[0.4444444444444444,\"#bd3786\"],[0.5555555555555556,\"#d8576b\"],[0.6666666666666666,\"#ed7953\"],[0.7777777777777778,\"#fb9f3a\"],[0.8888888888888888,\"#fdca26\"],[1.0,\"#f0f921\"]]}],\"contourcarpet\":[{\"type\":\"contourcarpet\",\"colorbar\":{\"outlinewidth\":0,\"ticks\":\"\"}}],\"contour\":[{\"type\":\"contour\",\"colorbar\":{\"outlinewidth\":0,\"ticks\":\"\"},\"colorscale\":[[0.0,\"#0d0887\"],[0.1111111111111111,\"#46039f\"],[0.2222222222222222,\"#7201a8\"],[0.3333333333333333,\"#9c179e\"],[0.4444444444444444,\"#bd3786\"],[0.5555555555555556,\"#d8576b\"],[0.6666666666666666,\"#ed7953\"],[0.7777777777777778,\"#fb9f3a\"],[0.8888888888888888,\"#fdca26\"],[1.0,\"#f0f921\"]]}],\"surface\":[{\"type\":\"surface\",\"colorbar\":{\"outlinewidth\":0,\"ticks\":\"\"},\"colorscale\":[[0.0,\"#0d0887\"],[0.1111111111111111,\"#46039f\"],[0.2222222222222222,\"#7201a8\"],[0.3333333333333333,\"#9c179e\"],[0.4444444444444444,\"#bd3786\"],[0.5555555555555556,\"#d8576b\"],[0.6666666666666666,\"#ed7953\"],[0.7777777777777778,\"#fb9f3a\"],[0.8888888888888888,\"#fdca26\"],[1.0,\"#f0f921\"]]}],\"mesh3d\":[{\"type\":\"mesh3d\",\"colorbar\":{\"outlinewidth\":0,\"ticks\":\"\"}}],\"scatter\":[{\"fillpattern\":{\"fillmode\":\"overlay\",\"size\":10,\"solidity\":0.2},\"type\":\"scatter\"}],\"parcoords\":[{\"type\":\"parcoords\",\"line\":{\"colorbar\":{\"outlinewidth\":0,\"ticks\":\"\"}}}],\"scatterpolargl\":[{\"type\":\"scatterpolargl\",\"marker\":{\"colorbar\":{\"outlinewidth\":0,\"ticks\":\"\"}}}],\"bar\":[{\"error_x\":{\"color\":\"#2a3f5f\"},\"error_y\":{\"color\":\"#2a3f5f\"},\"marker\":{\"line\":{\"color\":\"#E5ECF6\",\"width\":0.5},\"pattern\":{\"fillmode\":\"overlay\",\"size\":10,\"solidity\":0.2}},\"type\":\"bar\"}],\"scattergeo\":[{\"type\":\"scattergeo\",\"marker\":{\"colorbar\":{\"outlinewidth\":0,\"ticks\":\"\"}}}],\"scatterpolar\":[{\"type\":\"scatterpolar\",\"marker\":{\"colorbar\":{\"outlinewidth\":0,\"ticks\":\"\"}}}],\"histogram\":[{\"marker\":{\"pattern\":{\"fillmode\":\"overlay\",\"size\":10,\"solidity\":0.2}},\"type\":\"histogram\"}],\"scattergl\":[{\"type\":\"scattergl\",\"marker\":{\"colorbar\":{\"outlinewidth\":0,\"ticks\":\"\"}}}],\"scatter3d\":[{\"type\":\"scatter3d\",\"line\":{\"colorbar\":{\"outlinewidth\":0,\"ticks\":\"\"}},\"marker\":{\"colorbar\":{\"outlinewidth\":0,\"ticks\":\"\"}}}],\"scattermapbox\":[{\"type\":\"scattermapbox\",\"marker\":{\"colorbar\":{\"outlinewidth\":0,\"ticks\":\"\"}}}],\"scatterternary\":[{\"type\":\"scatterternary\",\"marker\":{\"colorbar\":{\"outlinewidth\":0,\"ticks\":\"\"}}}],\"scattercarpet\":[{\"type\":\"scattercarpet\",\"marker\":{\"colorbar\":{\"outlinewidth\":0,\"ticks\":\"\"}}}],\"carpet\":[{\"aaxis\":{\"endlinecolor\":\"#2a3f5f\",\"gridcolor\":\"white\",\"linecolor\":\"white\",\"minorgridcolor\":\"white\",\"startlinecolor\":\"#2a3f5f\"},\"baxis\":{\"endlinecolor\":\"#2a3f5f\",\"gridcolor\":\"white\",\"linecolor\":\"white\",\"minorgridcolor\":\"white\",\"startlinecolor\":\"#2a3f5f\"},\"type\":\"carpet\"}],\"table\":[{\"cells\":{\"fill\":{\"color\":\"#EBF0F8\"},\"line\":{\"color\":\"white\"}},\"header\":{\"fill\":{\"color\":\"#C8D4E3\"},\"line\":{\"color\":\"white\"}},\"type\":\"table\"}],\"barpolar\":[{\"marker\":{\"line\":{\"color\":\"#E5ECF6\",\"width\":0.5},\"pattern\":{\"fillmode\":\"overlay\",\"size\":10,\"solidity\":0.2}},\"type\":\"barpolar\"}],\"pie\":[{\"automargin\":true,\"type\":\"pie\"}]},\"layout\":{\"autotypenumbers\":\"strict\",\"colorway\":[\"#636efa\",\"#EF553B\",\"#00cc96\",\"#ab63fa\",\"#FFA15A\",\"#19d3f3\",\"#FF6692\",\"#B6E880\",\"#FF97FF\",\"#FECB52\"],\"font\":{\"color\":\"#2a3f5f\"},\"hovermode\":\"closest\",\"hoverlabel\":{\"align\":\"left\"},\"paper_bgcolor\":\"white\",\"plot_bgcolor\":\"#E5ECF6\",\"polar\":{\"bgcolor\":\"#E5ECF6\",\"angularaxis\":{\"gridcolor\":\"white\",\"linecolor\":\"white\",\"ticks\":\"\"},\"radialaxis\":{\"gridcolor\":\"white\",\"linecolor\":\"white\",\"ticks\":\"\"}},\"ternary\":{\"bgcolor\":\"#E5ECF6\",\"aaxis\":{\"gridcolor\":\"white\",\"linecolor\":\"white\",\"ticks\":\"\"},\"baxis\":{\"gridcolor\":\"white\",\"linecolor\":\"white\",\"ticks\":\"\"},\"caxis\":{\"gridcolor\":\"white\",\"linecolor\":\"white\",\"ticks\":\"\"}},\"coloraxis\":{\"colorbar\":{\"outlinewidth\":0,\"ticks\":\"\"}},\"colorscale\":{\"sequential\":[[0.0,\"#0d0887\"],[0.1111111111111111,\"#46039f\"],[0.2222222222222222,\"#7201a8\"],[0.3333333333333333,\"#9c179e\"],[0.4444444444444444,\"#bd3786\"],[0.5555555555555556,\"#d8576b\"],[0.6666666666666666,\"#ed7953\"],[0.7777777777777778,\"#fb9f3a\"],[0.8888888888888888,\"#fdca26\"],[1.0,\"#f0f921\"]],\"sequentialminus\":[[0.0,\"#0d0887\"],[0.1111111111111111,\"#46039f\"],[0.2222222222222222,\"#7201a8\"],[0.3333333333333333,\"#9c179e\"],[0.4444444444444444,\"#bd3786\"],[0.5555555555555556,\"#d8576b\"],[0.6666666666666666,\"#ed7953\"],[0.7777777777777778,\"#fb9f3a\"],[0.8888888888888888,\"#fdca26\"],[1.0,\"#f0f921\"]],\"diverging\":[[0,\"#8e0152\"],[0.1,\"#c51b7d\"],[0.2,\"#de77ae\"],[0.3,\"#f1b6da\"],[0.4,\"#fde0ef\"],[0.5,\"#f7f7f7\"],[0.6,\"#e6f5d0\"],[0.7,\"#b8e186\"],[0.8,\"#7fbc41\"],[0.9,\"#4d9221\"],[1,\"#276419\"]]},\"xaxis\":{\"gridcolor\":\"white\",\"linecolor\":\"white\",\"ticks\":\"\",\"title\":{\"standoff\":15},\"zerolinecolor\":\"white\",\"automargin\":true,\"zerolinewidth\":2},\"yaxis\":{\"gridcolor\":\"white\",\"linecolor\":\"white\",\"ticks\":\"\",\"title\":{\"standoff\":15},\"zerolinecolor\":\"white\",\"automargin\":true,\"zerolinewidth\":2},\"scene\":{\"xaxis\":{\"backgroundcolor\":\"#E5ECF6\",\"gridcolor\":\"white\",\"linecolor\":\"white\",\"showbackground\":true,\"ticks\":\"\",\"zerolinecolor\":\"white\",\"gridwidth\":2},\"yaxis\":{\"backgroundcolor\":\"#E5ECF6\",\"gridcolor\":\"white\",\"linecolor\":\"white\",\"showbackground\":true,\"ticks\":\"\",\"zerolinecolor\":\"white\",\"gridwidth\":2},\"zaxis\":{\"backgroundcolor\":\"#E5ECF6\",\"gridcolor\":\"white\",\"linecolor\":\"white\",\"showbackground\":true,\"ticks\":\"\",\"zerolinecolor\":\"white\",\"gridwidth\":2}},\"shapedefaults\":{\"line\":{\"color\":\"#2a3f5f\"}},\"annotationdefaults\":{\"arrowcolor\":\"#2a3f5f\",\"arrowhead\":0,\"arrowwidth\":1},\"geo\":{\"bgcolor\":\"white\",\"landcolor\":\"#E5ECF6\",\"subunitcolor\":\"white\",\"showland\":true,\"showlakes\":true,\"lakecolor\":\"white\"},\"title\":{\"x\":0.05},\"mapbox\":{\"style\":\"light\"}}}},                        {\"responsive\": true}                    ).then(function(){\n",
       "                            \n",
       "var gd = document.getElementById('6c572769-34b7-4fca-9301-1157ae2a1567');\n",
       "var x = new MutationObserver(function (mutations, observer) {{\n",
       "        var display = window.getComputedStyle(gd).display;\n",
       "        if (!display || display === 'none') {{\n",
       "            console.log([gd, 'removed!']);\n",
       "            Plotly.purge(gd);\n",
       "            observer.disconnect();\n",
       "        }}\n",
       "}});\n",
       "\n",
       "// Listen for the removal of the full notebook cells\n",
       "var notebookContainer = gd.closest('#notebook-container');\n",
       "if (notebookContainer) {{\n",
       "    x.observe(notebookContainer, {childList: true});\n",
       "}}\n",
       "\n",
       "// Listen for the clearing of the current output cell\n",
       "var outputEl = gd.closest('.output');\n",
       "if (outputEl) {{\n",
       "    x.observe(outputEl, {childList: true});\n",
       "}}\n",
       "\n",
       "                        })                };                });            </script>        </div>"
      ]
     },
     "metadata": {},
     "output_type": "display_data"
    }
   ],
   "source": [
    "fig = go.Figure()\n",
    "\n",
    "fig.add_trace(go.Box(\n",
    "        x=df_part1.group,\n",
    "        y=df_part1.results,\n",
    "        name=f'part1',\n",
    "    ))\n",
    "\n",
    "fig.add_trace(go.Box(\n",
    "        x=df_part2.group,\n",
    "        y=df_part2.results,\n",
    "        name=f'part2',\n",
    "    ))\n",
    "\n",
    "fig.add_trace(go.Box(\n",
    "        x=df_part3.group,\n",
    "        y=df_part3.results,\n",
    "        name=f'part3',\n",
    "    ))\n",
    "\n",
    "fig.add_trace(go.Box(\n",
    "        x=df_part4.group,\n",
    "        y=df_part4.results,\n",
    "        name=f'part4',\n",
    "    ))\n",
    "\n",
    "fig.add_trace(go.Box(\n",
    "        x=df_part5.group,\n",
    "        y=df_part5.results,\n",
    "        name=f'part5',\n",
    "    ))\n",
    "\n",
    "fig.add_trace(go.Box(\n",
    "        x=df_part6.group,\n",
    "        y=df_part6.results,\n",
    "        name=f'part6',\n",
    "    ))\n",
    "\n",
    "fig.add_trace(go.Box(\n",
    "        x=df_part7.group,\n",
    "        y=df_part7.results,\n",
    "        name=f'part7',\n",
    "    ))\n",
    "\n",
    "fig.show()"
   ]
  },
  {
   "cell_type": "code",
   "execution_count": 29,
   "metadata": {},
   "outputs": [
    {
     "data": {
      "text/html": [
       "<div>\n",
       "<style scoped>\n",
       "    .dataframe tbody tr th:only-of-type {\n",
       "        vertical-align: middle;\n",
       "    }\n",
       "\n",
       "    .dataframe tbody tr th {\n",
       "        vertical-align: top;\n",
       "    }\n",
       "\n",
       "    .dataframe thead th {\n",
       "        text-align: right;\n",
       "    }\n",
       "</style>\n",
       "<table border=\"1\" class=\"dataframe\">\n",
       "  <thead>\n",
       "    <tr style=\"text-align: right;\">\n",
       "      <th></th>\n",
       "      <th>day1</th>\n",
       "      <th>day2</th>\n",
       "      <th>group</th>\n",
       "    </tr>\n",
       "  </thead>\n",
       "  <tbody>\n",
       "    <tr>\n",
       "      <th>0</th>\n",
       "      <td>0.2</td>\n",
       "      <td>0.2</td>\n",
       "      <td>kaile</td>\n",
       "    </tr>\n",
       "    <tr>\n",
       "      <th>1</th>\n",
       "      <td>0.2</td>\n",
       "      <td>0.7</td>\n",
       "      <td>kaile</td>\n",
       "    </tr>\n",
       "    <tr>\n",
       "      <th>2</th>\n",
       "      <td>0.6</td>\n",
       "      <td>0.9</td>\n",
       "      <td>kaile</td>\n",
       "    </tr>\n",
       "    <tr>\n",
       "      <th>3</th>\n",
       "      <td>1.0</td>\n",
       "      <td>0.1</td>\n",
       "      <td>kaile</td>\n",
       "    </tr>\n",
       "    <tr>\n",
       "      <th>4</th>\n",
       "      <td>0.5</td>\n",
       "      <td>0.5</td>\n",
       "      <td>kaile</td>\n",
       "    </tr>\n",
       "    <tr>\n",
       "      <th>5</th>\n",
       "      <td>0.4</td>\n",
       "      <td>0.3</td>\n",
       "      <td>kaile</td>\n",
       "    </tr>\n",
       "  </tbody>\n",
       "</table>\n",
       "</div>"
      ],
      "text/plain": [
       "   day1  day2  group\n",
       "0   0.2   0.2  kaile\n",
       "1   0.2   0.7  kaile\n",
       "2   0.6   0.9  kaile\n",
       "3   1.0   0.1  kaile\n",
       "4   0.5   0.5  kaile\n",
       "5   0.4   0.3  kaile"
      ]
     },
     "execution_count": 29,
     "metadata": {},
     "output_type": "execute_result"
    }
   ],
   "source": [
    "x = ['day 1', 'day 1', 'day 1', 'day 1', 'day 1', 'day 1',\n",
    "     'day 2', 'day 2', 'day 2', 'day 2', 'day 2', 'day 2']\n",
    "test_x =['day1, day2']\n",
    "\n",
    "day1_list = [0.2, 0.2, 0.6, 1.0, 0.5, 0.4]\n",
    "day2_list = [0.2, 0.7, 0.9, 0.1, 0.5, 0.3]\n",
    "group_list = [\"kaile\" for x in day1_list]\n",
    "              \n",
    "dict_x = {'day1':day1_list, 'day2': day2_list,  \"group\": group_list}\n",
    "\n",
    "df_test = pd.DataFrame(dict_x)\n",
    "df_test\n",
    "\n"
   ]
  },
  {
   "cell_type": "code",
   "execution_count": 37,
   "metadata": {},
   "outputs": [
    {
     "data": {
      "application/vnd.plotly.v1+json": {
       "config": {
        "plotlyServerURL": "https://plot.ly"
       },
       "data": [
        {
         "marker": {
          "color": "#3D9970"
         },
         "name": "kale",
         "type": "box",
         "x": [
          "kaile",
          "kaile",
          "kaile",
          "kaile",
          "kaile",
          "kaile"
         ],
         "y": [
          0.2,
          0.2,
          0.6,
          1,
          0.5,
          0.4
         ]
        },
        {
         "marker": {
          "color": "#3D9970"
         },
         "name": "kale2",
         "type": "box",
         "x": [
          "kaile",
          "kaile",
          "kaile",
          "kaile",
          "kaile",
          "kaile"
         ],
         "y": [
          0.2,
          0.7,
          0.9,
          0.1,
          0.5,
          0.3
         ]
        }
       ],
       "layout": {
        "template": {
         "data": {
          "bar": [
           {
            "error_x": {
             "color": "#2a3f5f"
            },
            "error_y": {
             "color": "#2a3f5f"
            },
            "marker": {
             "line": {
              "color": "#E5ECF6",
              "width": 0.5
             },
             "pattern": {
              "fillmode": "overlay",
              "size": 10,
              "solidity": 0.2
             }
            },
            "type": "bar"
           }
          ],
          "barpolar": [
           {
            "marker": {
             "line": {
              "color": "#E5ECF6",
              "width": 0.5
             },
             "pattern": {
              "fillmode": "overlay",
              "size": 10,
              "solidity": 0.2
             }
            },
            "type": "barpolar"
           }
          ],
          "carpet": [
           {
            "aaxis": {
             "endlinecolor": "#2a3f5f",
             "gridcolor": "white",
             "linecolor": "white",
             "minorgridcolor": "white",
             "startlinecolor": "#2a3f5f"
            },
            "baxis": {
             "endlinecolor": "#2a3f5f",
             "gridcolor": "white",
             "linecolor": "white",
             "minorgridcolor": "white",
             "startlinecolor": "#2a3f5f"
            },
            "type": "carpet"
           }
          ],
          "choropleth": [
           {
            "colorbar": {
             "outlinewidth": 0,
             "ticks": ""
            },
            "type": "choropleth"
           }
          ],
          "contour": [
           {
            "colorbar": {
             "outlinewidth": 0,
             "ticks": ""
            },
            "colorscale": [
             [
              0,
              "#0d0887"
             ],
             [
              0.1111111111111111,
              "#46039f"
             ],
             [
              0.2222222222222222,
              "#7201a8"
             ],
             [
              0.3333333333333333,
              "#9c179e"
             ],
             [
              0.4444444444444444,
              "#bd3786"
             ],
             [
              0.5555555555555556,
              "#d8576b"
             ],
             [
              0.6666666666666666,
              "#ed7953"
             ],
             [
              0.7777777777777778,
              "#fb9f3a"
             ],
             [
              0.8888888888888888,
              "#fdca26"
             ],
             [
              1,
              "#f0f921"
             ]
            ],
            "type": "contour"
           }
          ],
          "contourcarpet": [
           {
            "colorbar": {
             "outlinewidth": 0,
             "ticks": ""
            },
            "type": "contourcarpet"
           }
          ],
          "heatmap": [
           {
            "colorbar": {
             "outlinewidth": 0,
             "ticks": ""
            },
            "colorscale": [
             [
              0,
              "#0d0887"
             ],
             [
              0.1111111111111111,
              "#46039f"
             ],
             [
              0.2222222222222222,
              "#7201a8"
             ],
             [
              0.3333333333333333,
              "#9c179e"
             ],
             [
              0.4444444444444444,
              "#bd3786"
             ],
             [
              0.5555555555555556,
              "#d8576b"
             ],
             [
              0.6666666666666666,
              "#ed7953"
             ],
             [
              0.7777777777777778,
              "#fb9f3a"
             ],
             [
              0.8888888888888888,
              "#fdca26"
             ],
             [
              1,
              "#f0f921"
             ]
            ],
            "type": "heatmap"
           }
          ],
          "heatmapgl": [
           {
            "colorbar": {
             "outlinewidth": 0,
             "ticks": ""
            },
            "colorscale": [
             [
              0,
              "#0d0887"
             ],
             [
              0.1111111111111111,
              "#46039f"
             ],
             [
              0.2222222222222222,
              "#7201a8"
             ],
             [
              0.3333333333333333,
              "#9c179e"
             ],
             [
              0.4444444444444444,
              "#bd3786"
             ],
             [
              0.5555555555555556,
              "#d8576b"
             ],
             [
              0.6666666666666666,
              "#ed7953"
             ],
             [
              0.7777777777777778,
              "#fb9f3a"
             ],
             [
              0.8888888888888888,
              "#fdca26"
             ],
             [
              1,
              "#f0f921"
             ]
            ],
            "type": "heatmapgl"
           }
          ],
          "histogram": [
           {
            "marker": {
             "pattern": {
              "fillmode": "overlay",
              "size": 10,
              "solidity": 0.2
             }
            },
            "type": "histogram"
           }
          ],
          "histogram2d": [
           {
            "colorbar": {
             "outlinewidth": 0,
             "ticks": ""
            },
            "colorscale": [
             [
              0,
              "#0d0887"
             ],
             [
              0.1111111111111111,
              "#46039f"
             ],
             [
              0.2222222222222222,
              "#7201a8"
             ],
             [
              0.3333333333333333,
              "#9c179e"
             ],
             [
              0.4444444444444444,
              "#bd3786"
             ],
             [
              0.5555555555555556,
              "#d8576b"
             ],
             [
              0.6666666666666666,
              "#ed7953"
             ],
             [
              0.7777777777777778,
              "#fb9f3a"
             ],
             [
              0.8888888888888888,
              "#fdca26"
             ],
             [
              1,
              "#f0f921"
             ]
            ],
            "type": "histogram2d"
           }
          ],
          "histogram2dcontour": [
           {
            "colorbar": {
             "outlinewidth": 0,
             "ticks": ""
            },
            "colorscale": [
             [
              0,
              "#0d0887"
             ],
             [
              0.1111111111111111,
              "#46039f"
             ],
             [
              0.2222222222222222,
              "#7201a8"
             ],
             [
              0.3333333333333333,
              "#9c179e"
             ],
             [
              0.4444444444444444,
              "#bd3786"
             ],
             [
              0.5555555555555556,
              "#d8576b"
             ],
             [
              0.6666666666666666,
              "#ed7953"
             ],
             [
              0.7777777777777778,
              "#fb9f3a"
             ],
             [
              0.8888888888888888,
              "#fdca26"
             ],
             [
              1,
              "#f0f921"
             ]
            ],
            "type": "histogram2dcontour"
           }
          ],
          "mesh3d": [
           {
            "colorbar": {
             "outlinewidth": 0,
             "ticks": ""
            },
            "type": "mesh3d"
           }
          ],
          "parcoords": [
           {
            "line": {
             "colorbar": {
              "outlinewidth": 0,
              "ticks": ""
             }
            },
            "type": "parcoords"
           }
          ],
          "pie": [
           {
            "automargin": true,
            "type": "pie"
           }
          ],
          "scatter": [
           {
            "fillpattern": {
             "fillmode": "overlay",
             "size": 10,
             "solidity": 0.2
            },
            "type": "scatter"
           }
          ],
          "scatter3d": [
           {
            "line": {
             "colorbar": {
              "outlinewidth": 0,
              "ticks": ""
             }
            },
            "marker": {
             "colorbar": {
              "outlinewidth": 0,
              "ticks": ""
             }
            },
            "type": "scatter3d"
           }
          ],
          "scattercarpet": [
           {
            "marker": {
             "colorbar": {
              "outlinewidth": 0,
              "ticks": ""
             }
            },
            "type": "scattercarpet"
           }
          ],
          "scattergeo": [
           {
            "marker": {
             "colorbar": {
              "outlinewidth": 0,
              "ticks": ""
             }
            },
            "type": "scattergeo"
           }
          ],
          "scattergl": [
           {
            "marker": {
             "colorbar": {
              "outlinewidth": 0,
              "ticks": ""
             }
            },
            "type": "scattergl"
           }
          ],
          "scattermapbox": [
           {
            "marker": {
             "colorbar": {
              "outlinewidth": 0,
              "ticks": ""
             }
            },
            "type": "scattermapbox"
           }
          ],
          "scatterpolar": [
           {
            "marker": {
             "colorbar": {
              "outlinewidth": 0,
              "ticks": ""
             }
            },
            "type": "scatterpolar"
           }
          ],
          "scatterpolargl": [
           {
            "marker": {
             "colorbar": {
              "outlinewidth": 0,
              "ticks": ""
             }
            },
            "type": "scatterpolargl"
           }
          ],
          "scatterternary": [
           {
            "marker": {
             "colorbar": {
              "outlinewidth": 0,
              "ticks": ""
             }
            },
            "type": "scatterternary"
           }
          ],
          "surface": [
           {
            "colorbar": {
             "outlinewidth": 0,
             "ticks": ""
            },
            "colorscale": [
             [
              0,
              "#0d0887"
             ],
             [
              0.1111111111111111,
              "#46039f"
             ],
             [
              0.2222222222222222,
              "#7201a8"
             ],
             [
              0.3333333333333333,
              "#9c179e"
             ],
             [
              0.4444444444444444,
              "#bd3786"
             ],
             [
              0.5555555555555556,
              "#d8576b"
             ],
             [
              0.6666666666666666,
              "#ed7953"
             ],
             [
              0.7777777777777778,
              "#fb9f3a"
             ],
             [
              0.8888888888888888,
              "#fdca26"
             ],
             [
              1,
              "#f0f921"
             ]
            ],
            "type": "surface"
           }
          ],
          "table": [
           {
            "cells": {
             "fill": {
              "color": "#EBF0F8"
             },
             "line": {
              "color": "white"
             }
            },
            "header": {
             "fill": {
              "color": "#C8D4E3"
             },
             "line": {
              "color": "white"
             }
            },
            "type": "table"
           }
          ]
         },
         "layout": {
          "annotationdefaults": {
           "arrowcolor": "#2a3f5f",
           "arrowhead": 0,
           "arrowwidth": 1
          },
          "autotypenumbers": "strict",
          "coloraxis": {
           "colorbar": {
            "outlinewidth": 0,
            "ticks": ""
           }
          },
          "colorscale": {
           "diverging": [
            [
             0,
             "#8e0152"
            ],
            [
             0.1,
             "#c51b7d"
            ],
            [
             0.2,
             "#de77ae"
            ],
            [
             0.3,
             "#f1b6da"
            ],
            [
             0.4,
             "#fde0ef"
            ],
            [
             0.5,
             "#f7f7f7"
            ],
            [
             0.6,
             "#e6f5d0"
            ],
            [
             0.7,
             "#b8e186"
            ],
            [
             0.8,
             "#7fbc41"
            ],
            [
             0.9,
             "#4d9221"
            ],
            [
             1,
             "#276419"
            ]
           ],
           "sequential": [
            [
             0,
             "#0d0887"
            ],
            [
             0.1111111111111111,
             "#46039f"
            ],
            [
             0.2222222222222222,
             "#7201a8"
            ],
            [
             0.3333333333333333,
             "#9c179e"
            ],
            [
             0.4444444444444444,
             "#bd3786"
            ],
            [
             0.5555555555555556,
             "#d8576b"
            ],
            [
             0.6666666666666666,
             "#ed7953"
            ],
            [
             0.7777777777777778,
             "#fb9f3a"
            ],
            [
             0.8888888888888888,
             "#fdca26"
            ],
            [
             1,
             "#f0f921"
            ]
           ],
           "sequentialminus": [
            [
             0,
             "#0d0887"
            ],
            [
             0.1111111111111111,
             "#46039f"
            ],
            [
             0.2222222222222222,
             "#7201a8"
            ],
            [
             0.3333333333333333,
             "#9c179e"
            ],
            [
             0.4444444444444444,
             "#bd3786"
            ],
            [
             0.5555555555555556,
             "#d8576b"
            ],
            [
             0.6666666666666666,
             "#ed7953"
            ],
            [
             0.7777777777777778,
             "#fb9f3a"
            ],
            [
             0.8888888888888888,
             "#fdca26"
            ],
            [
             1,
             "#f0f921"
            ]
           ]
          },
          "colorway": [
           "#636efa",
           "#EF553B",
           "#00cc96",
           "#ab63fa",
           "#FFA15A",
           "#19d3f3",
           "#FF6692",
           "#B6E880",
           "#FF97FF",
           "#FECB52"
          ],
          "font": {
           "color": "#2a3f5f"
          },
          "geo": {
           "bgcolor": "white",
           "lakecolor": "white",
           "landcolor": "#E5ECF6",
           "showlakes": true,
           "showland": true,
           "subunitcolor": "white"
          },
          "hoverlabel": {
           "align": "left"
          },
          "hovermode": "closest",
          "mapbox": {
           "style": "light"
          },
          "paper_bgcolor": "white",
          "plot_bgcolor": "#E5ECF6",
          "polar": {
           "angularaxis": {
            "gridcolor": "white",
            "linecolor": "white",
            "ticks": ""
           },
           "bgcolor": "#E5ECF6",
           "radialaxis": {
            "gridcolor": "white",
            "linecolor": "white",
            "ticks": ""
           }
          },
          "scene": {
           "xaxis": {
            "backgroundcolor": "#E5ECF6",
            "gridcolor": "white",
            "gridwidth": 2,
            "linecolor": "white",
            "showbackground": true,
            "ticks": "",
            "zerolinecolor": "white"
           },
           "yaxis": {
            "backgroundcolor": "#E5ECF6",
            "gridcolor": "white",
            "gridwidth": 2,
            "linecolor": "white",
            "showbackground": true,
            "ticks": "",
            "zerolinecolor": "white"
           },
           "zaxis": {
            "backgroundcolor": "#E5ECF6",
            "gridcolor": "white",
            "gridwidth": 2,
            "linecolor": "white",
            "showbackground": true,
            "ticks": "",
            "zerolinecolor": "white"
           }
          },
          "shapedefaults": {
           "line": {
            "color": "#2a3f5f"
           }
          },
          "ternary": {
           "aaxis": {
            "gridcolor": "white",
            "linecolor": "white",
            "ticks": ""
           },
           "baxis": {
            "gridcolor": "white",
            "linecolor": "white",
            "ticks": ""
           },
           "bgcolor": "#E5ECF6",
           "caxis": {
            "gridcolor": "white",
            "linecolor": "white",
            "ticks": ""
           }
          },
          "title": {
           "x": 0.05
          },
          "xaxis": {
           "automargin": true,
           "gridcolor": "white",
           "linecolor": "white",
           "ticks": "",
           "title": {
            "standoff": 15
           },
           "zerolinecolor": "white",
           "zerolinewidth": 2
          },
          "yaxis": {
           "automargin": true,
           "gridcolor": "white",
           "linecolor": "white",
           "ticks": "",
           "title": {
            "standoff": 15
           },
           "zerolinecolor": "white",
           "zerolinewidth": 2
          }
         }
        }
       }
      },
      "text/html": [
       "<div>                            <div id=\"77303338-24ed-49f6-b0dd-717b6706ace4\" class=\"plotly-graph-div\" style=\"height:525px; width:100%;\"></div>            <script type=\"text/javascript\">                require([\"plotly\"], function(Plotly) {                    window.PLOTLYENV=window.PLOTLYENV || {};                                    if (document.getElementById(\"77303338-24ed-49f6-b0dd-717b6706ace4\")) {                    Plotly.newPlot(                        \"77303338-24ed-49f6-b0dd-717b6706ace4\",                        [{\"marker\":{\"color\":\"#3D9970\"},\"name\":\"kale\",\"x\":[\"kaile\",\"kaile\",\"kaile\",\"kaile\",\"kaile\",\"kaile\"],\"y\":[0.2,0.2,0.6,1.0,0.5,0.4],\"type\":\"box\"},{\"marker\":{\"color\":\"#3D9970\"},\"name\":\"kale2\",\"x\":[\"kaile\",\"kaile\",\"kaile\",\"kaile\",\"kaile\",\"kaile\"],\"y\":[0.2,0.7,0.9,0.1,0.5,0.3],\"type\":\"box\"}],                        {\"template\":{\"data\":{\"histogram2dcontour\":[{\"type\":\"histogram2dcontour\",\"colorbar\":{\"outlinewidth\":0,\"ticks\":\"\"},\"colorscale\":[[0.0,\"#0d0887\"],[0.1111111111111111,\"#46039f\"],[0.2222222222222222,\"#7201a8\"],[0.3333333333333333,\"#9c179e\"],[0.4444444444444444,\"#bd3786\"],[0.5555555555555556,\"#d8576b\"],[0.6666666666666666,\"#ed7953\"],[0.7777777777777778,\"#fb9f3a\"],[0.8888888888888888,\"#fdca26\"],[1.0,\"#f0f921\"]]}],\"choropleth\":[{\"type\":\"choropleth\",\"colorbar\":{\"outlinewidth\":0,\"ticks\":\"\"}}],\"histogram2d\":[{\"type\":\"histogram2d\",\"colorbar\":{\"outlinewidth\":0,\"ticks\":\"\"},\"colorscale\":[[0.0,\"#0d0887\"],[0.1111111111111111,\"#46039f\"],[0.2222222222222222,\"#7201a8\"],[0.3333333333333333,\"#9c179e\"],[0.4444444444444444,\"#bd3786\"],[0.5555555555555556,\"#d8576b\"],[0.6666666666666666,\"#ed7953\"],[0.7777777777777778,\"#fb9f3a\"],[0.8888888888888888,\"#fdca26\"],[1.0,\"#f0f921\"]]}],\"heatmap\":[{\"type\":\"heatmap\",\"colorbar\":{\"outlinewidth\":0,\"ticks\":\"\"},\"colorscale\":[[0.0,\"#0d0887\"],[0.1111111111111111,\"#46039f\"],[0.2222222222222222,\"#7201a8\"],[0.3333333333333333,\"#9c179e\"],[0.4444444444444444,\"#bd3786\"],[0.5555555555555556,\"#d8576b\"],[0.6666666666666666,\"#ed7953\"],[0.7777777777777778,\"#fb9f3a\"],[0.8888888888888888,\"#fdca26\"],[1.0,\"#f0f921\"]]}],\"heatmapgl\":[{\"type\":\"heatmapgl\",\"colorbar\":{\"outlinewidth\":0,\"ticks\":\"\"},\"colorscale\":[[0.0,\"#0d0887\"],[0.1111111111111111,\"#46039f\"],[0.2222222222222222,\"#7201a8\"],[0.3333333333333333,\"#9c179e\"],[0.4444444444444444,\"#bd3786\"],[0.5555555555555556,\"#d8576b\"],[0.6666666666666666,\"#ed7953\"],[0.7777777777777778,\"#fb9f3a\"],[0.8888888888888888,\"#fdca26\"],[1.0,\"#f0f921\"]]}],\"contourcarpet\":[{\"type\":\"contourcarpet\",\"colorbar\":{\"outlinewidth\":0,\"ticks\":\"\"}}],\"contour\":[{\"type\":\"contour\",\"colorbar\":{\"outlinewidth\":0,\"ticks\":\"\"},\"colorscale\":[[0.0,\"#0d0887\"],[0.1111111111111111,\"#46039f\"],[0.2222222222222222,\"#7201a8\"],[0.3333333333333333,\"#9c179e\"],[0.4444444444444444,\"#bd3786\"],[0.5555555555555556,\"#d8576b\"],[0.6666666666666666,\"#ed7953\"],[0.7777777777777778,\"#fb9f3a\"],[0.8888888888888888,\"#fdca26\"],[1.0,\"#f0f921\"]]}],\"surface\":[{\"type\":\"surface\",\"colorbar\":{\"outlinewidth\":0,\"ticks\":\"\"},\"colorscale\":[[0.0,\"#0d0887\"],[0.1111111111111111,\"#46039f\"],[0.2222222222222222,\"#7201a8\"],[0.3333333333333333,\"#9c179e\"],[0.4444444444444444,\"#bd3786\"],[0.5555555555555556,\"#d8576b\"],[0.6666666666666666,\"#ed7953\"],[0.7777777777777778,\"#fb9f3a\"],[0.8888888888888888,\"#fdca26\"],[1.0,\"#f0f921\"]]}],\"mesh3d\":[{\"type\":\"mesh3d\",\"colorbar\":{\"outlinewidth\":0,\"ticks\":\"\"}}],\"scatter\":[{\"fillpattern\":{\"fillmode\":\"overlay\",\"size\":10,\"solidity\":0.2},\"type\":\"scatter\"}],\"parcoords\":[{\"type\":\"parcoords\",\"line\":{\"colorbar\":{\"outlinewidth\":0,\"ticks\":\"\"}}}],\"scatterpolargl\":[{\"type\":\"scatterpolargl\",\"marker\":{\"colorbar\":{\"outlinewidth\":0,\"ticks\":\"\"}}}],\"bar\":[{\"error_x\":{\"color\":\"#2a3f5f\"},\"error_y\":{\"color\":\"#2a3f5f\"},\"marker\":{\"line\":{\"color\":\"#E5ECF6\",\"width\":0.5},\"pattern\":{\"fillmode\":\"overlay\",\"size\":10,\"solidity\":0.2}},\"type\":\"bar\"}],\"scattergeo\":[{\"type\":\"scattergeo\",\"marker\":{\"colorbar\":{\"outlinewidth\":0,\"ticks\":\"\"}}}],\"scatterpolar\":[{\"type\":\"scatterpolar\",\"marker\":{\"colorbar\":{\"outlinewidth\":0,\"ticks\":\"\"}}}],\"histogram\":[{\"marker\":{\"pattern\":{\"fillmode\":\"overlay\",\"size\":10,\"solidity\":0.2}},\"type\":\"histogram\"}],\"scattergl\":[{\"type\":\"scattergl\",\"marker\":{\"colorbar\":{\"outlinewidth\":0,\"ticks\":\"\"}}}],\"scatter3d\":[{\"type\":\"scatter3d\",\"line\":{\"colorbar\":{\"outlinewidth\":0,\"ticks\":\"\"}},\"marker\":{\"colorbar\":{\"outlinewidth\":0,\"ticks\":\"\"}}}],\"scattermapbox\":[{\"type\":\"scattermapbox\",\"marker\":{\"colorbar\":{\"outlinewidth\":0,\"ticks\":\"\"}}}],\"scatterternary\":[{\"type\":\"scatterternary\",\"marker\":{\"colorbar\":{\"outlinewidth\":0,\"ticks\":\"\"}}}],\"scattercarpet\":[{\"type\":\"scattercarpet\",\"marker\":{\"colorbar\":{\"outlinewidth\":0,\"ticks\":\"\"}}}],\"carpet\":[{\"aaxis\":{\"endlinecolor\":\"#2a3f5f\",\"gridcolor\":\"white\",\"linecolor\":\"white\",\"minorgridcolor\":\"white\",\"startlinecolor\":\"#2a3f5f\"},\"baxis\":{\"endlinecolor\":\"#2a3f5f\",\"gridcolor\":\"white\",\"linecolor\":\"white\",\"minorgridcolor\":\"white\",\"startlinecolor\":\"#2a3f5f\"},\"type\":\"carpet\"}],\"table\":[{\"cells\":{\"fill\":{\"color\":\"#EBF0F8\"},\"line\":{\"color\":\"white\"}},\"header\":{\"fill\":{\"color\":\"#C8D4E3\"},\"line\":{\"color\":\"white\"}},\"type\":\"table\"}],\"barpolar\":[{\"marker\":{\"line\":{\"color\":\"#E5ECF6\",\"width\":0.5},\"pattern\":{\"fillmode\":\"overlay\",\"size\":10,\"solidity\":0.2}},\"type\":\"barpolar\"}],\"pie\":[{\"automargin\":true,\"type\":\"pie\"}]},\"layout\":{\"autotypenumbers\":\"strict\",\"colorway\":[\"#636efa\",\"#EF553B\",\"#00cc96\",\"#ab63fa\",\"#FFA15A\",\"#19d3f3\",\"#FF6692\",\"#B6E880\",\"#FF97FF\",\"#FECB52\"],\"font\":{\"color\":\"#2a3f5f\"},\"hovermode\":\"closest\",\"hoverlabel\":{\"align\":\"left\"},\"paper_bgcolor\":\"white\",\"plot_bgcolor\":\"#E5ECF6\",\"polar\":{\"bgcolor\":\"#E5ECF6\",\"angularaxis\":{\"gridcolor\":\"white\",\"linecolor\":\"white\",\"ticks\":\"\"},\"radialaxis\":{\"gridcolor\":\"white\",\"linecolor\":\"white\",\"ticks\":\"\"}},\"ternary\":{\"bgcolor\":\"#E5ECF6\",\"aaxis\":{\"gridcolor\":\"white\",\"linecolor\":\"white\",\"ticks\":\"\"},\"baxis\":{\"gridcolor\":\"white\",\"linecolor\":\"white\",\"ticks\":\"\"},\"caxis\":{\"gridcolor\":\"white\",\"linecolor\":\"white\",\"ticks\":\"\"}},\"coloraxis\":{\"colorbar\":{\"outlinewidth\":0,\"ticks\":\"\"}},\"colorscale\":{\"sequential\":[[0.0,\"#0d0887\"],[0.1111111111111111,\"#46039f\"],[0.2222222222222222,\"#7201a8\"],[0.3333333333333333,\"#9c179e\"],[0.4444444444444444,\"#bd3786\"],[0.5555555555555556,\"#d8576b\"],[0.6666666666666666,\"#ed7953\"],[0.7777777777777778,\"#fb9f3a\"],[0.8888888888888888,\"#fdca26\"],[1.0,\"#f0f921\"]],\"sequentialminus\":[[0.0,\"#0d0887\"],[0.1111111111111111,\"#46039f\"],[0.2222222222222222,\"#7201a8\"],[0.3333333333333333,\"#9c179e\"],[0.4444444444444444,\"#bd3786\"],[0.5555555555555556,\"#d8576b\"],[0.6666666666666666,\"#ed7953\"],[0.7777777777777778,\"#fb9f3a\"],[0.8888888888888888,\"#fdca26\"],[1.0,\"#f0f921\"]],\"diverging\":[[0,\"#8e0152\"],[0.1,\"#c51b7d\"],[0.2,\"#de77ae\"],[0.3,\"#f1b6da\"],[0.4,\"#fde0ef\"],[0.5,\"#f7f7f7\"],[0.6,\"#e6f5d0\"],[0.7,\"#b8e186\"],[0.8,\"#7fbc41\"],[0.9,\"#4d9221\"],[1,\"#276419\"]]},\"xaxis\":{\"gridcolor\":\"white\",\"linecolor\":\"white\",\"ticks\":\"\",\"title\":{\"standoff\":15},\"zerolinecolor\":\"white\",\"automargin\":true,\"zerolinewidth\":2},\"yaxis\":{\"gridcolor\":\"white\",\"linecolor\":\"white\",\"ticks\":\"\",\"title\":{\"standoff\":15},\"zerolinecolor\":\"white\",\"automargin\":true,\"zerolinewidth\":2},\"scene\":{\"xaxis\":{\"backgroundcolor\":\"#E5ECF6\",\"gridcolor\":\"white\",\"linecolor\":\"white\",\"showbackground\":true,\"ticks\":\"\",\"zerolinecolor\":\"white\",\"gridwidth\":2},\"yaxis\":{\"backgroundcolor\":\"#E5ECF6\",\"gridcolor\":\"white\",\"linecolor\":\"white\",\"showbackground\":true,\"ticks\":\"\",\"zerolinecolor\":\"white\",\"gridwidth\":2},\"zaxis\":{\"backgroundcolor\":\"#E5ECF6\",\"gridcolor\":\"white\",\"linecolor\":\"white\",\"showbackground\":true,\"ticks\":\"\",\"zerolinecolor\":\"white\",\"gridwidth\":2}},\"shapedefaults\":{\"line\":{\"color\":\"#2a3f5f\"}},\"annotationdefaults\":{\"arrowcolor\":\"#2a3f5f\",\"arrowhead\":0,\"arrowwidth\":1},\"geo\":{\"bgcolor\":\"white\",\"landcolor\":\"#E5ECF6\",\"subunitcolor\":\"white\",\"showland\":true,\"showlakes\":true,\"lakecolor\":\"white\"},\"title\":{\"x\":0.05},\"mapbox\":{\"style\":\"light\"}}}},                        {\"responsive\": true}                    ).then(function(){\n",
       "                            \n",
       "var gd = document.getElementById('77303338-24ed-49f6-b0dd-717b6706ace4');\n",
       "var x = new MutationObserver(function (mutations, observer) {{\n",
       "        var display = window.getComputedStyle(gd).display;\n",
       "        if (!display || display === 'none') {{\n",
       "            console.log([gd, 'removed!']);\n",
       "            Plotly.purge(gd);\n",
       "            observer.disconnect();\n",
       "        }}\n",
       "}});\n",
       "\n",
       "// Listen for the removal of the full notebook cells\n",
       "var notebookContainer = gd.closest('#notebook-container');\n",
       "if (notebookContainer) {{\n",
       "    x.observe(notebookContainer, {childList: true});\n",
       "}}\n",
       "\n",
       "// Listen for the clearing of the current output cell\n",
       "var outputEl = gd.closest('.output');\n",
       "if (outputEl) {{\n",
       "    x.observe(outputEl, {childList: true});\n",
       "}}\n",
       "\n",
       "                        })                };                });            </script>        </div>"
      ]
     },
     "metadata": {},
     "output_type": "display_data"
    }
   ],
   "source": [
    "fig = go.Figure()\n",
    "\n",
    "fig.add_trace(go.Box(x = df_test.group,\n",
    "                     y = df_test.day1,\n",
    "                     name='kale',\n",
    "    marker_color='#3D9970'\n",
    "))\n",
    "\n",
    "fig.add_trace(go.Box(x = df_test.group,\n",
    "                     y = df_test.day2,\n",
    "                     name='kale2',\n",
    "    marker_color='#3D9970'\n",
    "))\n",
    "\n",
    "fig.show()\n"
   ]
  },
  {
   "cell_type": "code",
   "execution_count": null,
   "metadata": {},
   "outputs": [],
   "source": [
    "\n",
    "\n",
    "fig = go.Figure()\n",
    "\n",
    "fig.add_trace(go.Box(x=x_ax, y=labels,\n",
    "                    mode='lines',\n",
    "                    name='labels',\n",
    "                    legendgroup=\"1\"), row=1, col=1)"
   ]
  }
 ],
 "metadata": {
  "kernelspec": {
   "display_name": "lightning",
   "language": "python",
   "name": "python3"
  },
  "language_info": {
   "codemirror_mode": {
    "name": "ipython",
    "version": 3
   },
   "file_extension": ".py",
   "mimetype": "text/x-python",
   "name": "python",
   "nbconvert_exporter": "python",
   "pygments_lexer": "ipython3",
   "version": "3.8.13"
  },
  "orig_nbformat": 4
 },
 "nbformat": 4,
 "nbformat_minor": 2
}
